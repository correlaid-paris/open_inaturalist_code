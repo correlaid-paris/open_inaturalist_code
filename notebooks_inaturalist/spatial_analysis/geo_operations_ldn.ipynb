{
 "cells": [
  {
   "cell_type": "markdown",
   "metadata": {},
   "source": [
    "## Steps\n",
    "\n",
    "#### Load observations, greenspaces, ocean and continetal waters\n",
    "#### Exclude the greenspaces within ocean and continental waters (key: nature_reserve)\n",
    "#### Exclude overlapping geometries \n",
    "#### Export files as .shp"
   ]
  },
  {
   "cell_type": "code",
   "execution_count": 1,
   "metadata": {},
   "outputs": [],
   "source": [
    "#import libraries\n",
    "import pandas as pd \n",
    "import numpy as np\n",
    "from glob2 import glob\n",
    "import geopandas as gpd \n",
    "import osmnx as ox"
   ]
  },
  {
   "cell_type": "code",
   "execution_count": 2,
   "metadata": {},
   "outputs": [],
   "source": [
    "#get England as gdf to check anomalies. Points outside California will be excluded\n",
    "engl=ox.geocode_to_gdf('England')"
   ]
  },
  {
   "cell_type": "code",
   "execution_count": 3,
   "metadata": {},
   "outputs": [],
   "source": [
    "#load observations\n",
    "data_folder = '../data/observations_final'\n",
    "df = pd.concat([pd.read_csv(f).assign(challenge=f.replace('.csv','')) for f in glob(data_folder+'/CNC_London_*.csv')])"
   ]
  },
  {
   "cell_type": "code",
   "execution_count": 4,
   "metadata": {},
   "outputs": [
    {
     "data": {
      "text/plain": [
       "(13750, 39)"
      ]
     },
     "execution_count": 4,
     "metadata": {},
     "output_type": "execute_result"
    }
   ],
   "source": [
    "df.shape"
   ]
  },
  {
   "cell_type": "code",
   "execution_count": 5,
   "metadata": {},
   "outputs": [],
   "source": [
    "#exclude anomalies\n",
    "df=df[df['latitude'].le(engl['bbox_north'].iloc[0]) \\\n",
    "                  & df['latitude'].ge(engl['bbox_south'].iloc[0]) \\\n",
    "                  & df['longitude'].le(engl['bbox_east'].iloc[0]) \\\n",
    "                  & df['longitude'].ge(engl['bbox_west'].iloc[0])]"
   ]
  },
  {
   "cell_type": "code",
   "execution_count": 6,
   "metadata": {},
   "outputs": [],
   "source": [
    "#create year \n",
    "df['year']=df['time_observed_at'].str[0:4].astype('int64')"
   ]
  },
  {
   "cell_type": "code",
   "execution_count": 7,
   "metadata": {},
   "outputs": [
    {
     "data": {
      "text/plain": [
       "(13750, 40)"
      ]
     },
     "execution_count": 7,
     "metadata": {},
     "output_type": "execute_result"
    }
   ],
   "source": [
    "df.shape"
   ]
  },
  {
   "cell_type": "code",
   "execution_count": 8,
   "metadata": {},
   "outputs": [],
   "source": [
    "#load greenspaces\n",
    "#http://download.geofabrik.de/europe/great-britain/england.html\n",
    "landuse=gpd.read_file('../data/england-latest-free/gis_osm_landuse_a_free_1.shp')"
   ]
  },
  {
   "cell_type": "code",
   "execution_count": 9,
   "metadata": {},
   "outputs": [
    {
     "data": {
      "text/plain": [
       "(1320022, 5)"
      ]
     },
     "execution_count": 9,
     "metadata": {},
     "output_type": "execute_result"
    }
   ],
   "source": [
    "landuse.shape"
   ]
  },
  {
   "cell_type": "code",
   "execution_count": 10,
   "metadata": {},
   "outputs": [
    {
     "data": {
      "text/html": [
       "<div>\n",
       "<style scoped>\n",
       "    .dataframe tbody tr th:only-of-type {\n",
       "        vertical-align: middle;\n",
       "    }\n",
       "\n",
       "    .dataframe tbody tr th {\n",
       "        vertical-align: top;\n",
       "    }\n",
       "\n",
       "    .dataframe thead th {\n",
       "        text-align: right;\n",
       "    }\n",
       "</style>\n",
       "<table border=\"1\" class=\"dataframe\">\n",
       "  <thead>\n",
       "    <tr style=\"text-align: right;\">\n",
       "      <th></th>\n",
       "      <th>osm_id</th>\n",
       "      <th>code</th>\n",
       "      <th>fclass</th>\n",
       "      <th>name</th>\n",
       "      <th>geometry</th>\n",
       "    </tr>\n",
       "  </thead>\n",
       "  <tbody>\n",
       "    <tr>\n",
       "      <th>0</th>\n",
       "      <td>2838058</td>\n",
       "      <td>7202</td>\n",
       "      <td>park</td>\n",
       "      <td>None</td>\n",
       "      <td>POLYGON ((-0.09186 51.66414, -0.09146 51.66418...</td>\n",
       "    </tr>\n",
       "    <tr>\n",
       "      <th>1</th>\n",
       "      <td>2903046</td>\n",
       "      <td>7202</td>\n",
       "      <td>park</td>\n",
       "      <td>None</td>\n",
       "      <td>POLYGON ((-0.08025 51.66596, -0.08005 51.66690...</td>\n",
       "    </tr>\n",
       "    <tr>\n",
       "      <th>2</th>\n",
       "      <td>2903368</td>\n",
       "      <td>7202</td>\n",
       "      <td>park</td>\n",
       "      <td>None</td>\n",
       "      <td>POLYGON ((-0.08663 51.66215, -0.08653 51.66293...</td>\n",
       "    </tr>\n",
       "    <tr>\n",
       "      <th>3</th>\n",
       "      <td>2903369</td>\n",
       "      <td>7202</td>\n",
       "      <td>park</td>\n",
       "      <td>None</td>\n",
       "      <td>POLYGON ((-0.08266 51.66106, -0.08227 51.66177...</td>\n",
       "    </tr>\n",
       "    <tr>\n",
       "      <th>4</th>\n",
       "      <td>2903398</td>\n",
       "      <td>7202</td>\n",
       "      <td>park</td>\n",
       "      <td>Bush Hill Park</td>\n",
       "      <td>POLYGON ((-0.07064 51.64713, -0.07058 51.64751...</td>\n",
       "    </tr>\n",
       "  </tbody>\n",
       "</table>\n",
       "</div>"
      ],
      "text/plain": [
       "    osm_id  code fclass            name  \\\n",
       "0  2838058  7202   park            None   \n",
       "1  2903046  7202   park            None   \n",
       "2  2903368  7202   park            None   \n",
       "3  2903369  7202   park            None   \n",
       "4  2903398  7202   park  Bush Hill Park   \n",
       "\n",
       "                                            geometry  \n",
       "0  POLYGON ((-0.09186 51.66414, -0.09146 51.66418...  \n",
       "1  POLYGON ((-0.08025 51.66596, -0.08005 51.66690...  \n",
       "2  POLYGON ((-0.08663 51.66215, -0.08653 51.66293...  \n",
       "3  POLYGON ((-0.08266 51.66106, -0.08227 51.66177...  \n",
       "4  POLYGON ((-0.07064 51.64713, -0.07058 51.64751...  "
      ]
     },
     "execution_count": 10,
     "metadata": {},
     "output_type": "execute_result"
    }
   ],
   "source": [
    "landuse.head()"
   ]
  },
  {
   "cell_type": "code",
   "execution_count": 11,
   "metadata": {},
   "outputs": [],
   "source": [
    "#define function to get coordinates using the centroids\n",
    "def getXY(pt):\n",
    "    return (pt.x, pt.y)"
   ]
  },
  {
   "cell_type": "code",
   "execution_count": 12,
   "metadata": {
    "scrolled": true
   },
   "outputs": [
    {
     "name": "stderr",
     "output_type": "stream",
     "text": [
      "C:\\Users\\acmar\\miniconda3\\envs\\cs\\lib\\site-packages\\ipykernel_launcher.py:2: UserWarning: Geometry is in a geographic CRS. Results from 'centroid' are likely incorrect. Use 'GeoSeries.to_crs()' to re-project geometries to a projected CRS before this operation.\n",
      "\n",
      "  \n",
      "C:\\Users\\acmar\\miniconda3\\envs\\cs\\lib\\site-packages\\ipykernel_launcher.py:3: UserWarning: Geometry is in a geographic CRS. Results from 'centroid' are likely incorrect. Use 'GeoSeries.to_crs()' to re-project geometries to a projected CRS before this operation.\n",
      "\n",
      "  This is separate from the ipykernel package so we can avoid doing imports until\n"
     ]
    }
   ],
   "source": [
    "#get coordinates\n",
    "landuse['centroid'] = landuse['geometry'].centroid\n",
    "landuse['lon'], landuse['lat'] = [list(t) for t in zip(*map(getXY, landuse.centroid))]"
   ]
  },
  {
   "cell_type": "code",
   "execution_count": 13,
   "metadata": {},
   "outputs": [
    {
     "data": {
      "text/html": [
       "<div>\n",
       "<style scoped>\n",
       "    .dataframe tbody tr th:only-of-type {\n",
       "        vertical-align: middle;\n",
       "    }\n",
       "\n",
       "    .dataframe tbody tr th {\n",
       "        vertical-align: top;\n",
       "    }\n",
       "\n",
       "    .dataframe thead th {\n",
       "        text-align: right;\n",
       "    }\n",
       "</style>\n",
       "<table border=\"1\" class=\"dataframe\">\n",
       "  <thead>\n",
       "    <tr style=\"text-align: right;\">\n",
       "      <th></th>\n",
       "      <th>osm_id</th>\n",
       "      <th>code</th>\n",
       "      <th>fclass</th>\n",
       "      <th>name</th>\n",
       "      <th>geometry</th>\n",
       "      <th>centroid</th>\n",
       "      <th>lon</th>\n",
       "      <th>lat</th>\n",
       "    </tr>\n",
       "  </thead>\n",
       "  <tbody>\n",
       "    <tr>\n",
       "      <th>0</th>\n",
       "      <td>2838058</td>\n",
       "      <td>7202</td>\n",
       "      <td>park</td>\n",
       "      <td>None</td>\n",
       "      <td>POLYGON ((-0.09186 51.66414, -0.09146 51.66418...</td>\n",
       "      <td>POINT (-0.09078 51.66464)</td>\n",
       "      <td>-0.090778</td>\n",
       "      <td>51.664637</td>\n",
       "    </tr>\n",
       "    <tr>\n",
       "      <th>1</th>\n",
       "      <td>2903046</td>\n",
       "      <td>7202</td>\n",
       "      <td>park</td>\n",
       "      <td>None</td>\n",
       "      <td>POLYGON ((-0.08025 51.66596, -0.08005 51.66690...</td>\n",
       "      <td>POINT (-0.07854 51.66695)</td>\n",
       "      <td>-0.078543</td>\n",
       "      <td>51.666949</td>\n",
       "    </tr>\n",
       "    <tr>\n",
       "      <th>2</th>\n",
       "      <td>2903368</td>\n",
       "      <td>7202</td>\n",
       "      <td>park</td>\n",
       "      <td>None</td>\n",
       "      <td>POLYGON ((-0.08663 51.66215, -0.08653 51.66293...</td>\n",
       "      <td>POINT (-0.08612 51.66253)</td>\n",
       "      <td>-0.086119</td>\n",
       "      <td>51.662532</td>\n",
       "    </tr>\n",
       "    <tr>\n",
       "      <th>3</th>\n",
       "      <td>2903369</td>\n",
       "      <td>7202</td>\n",
       "      <td>park</td>\n",
       "      <td>None</td>\n",
       "      <td>POLYGON ((-0.08266 51.66106, -0.08227 51.66177...</td>\n",
       "      <td>POINT (-0.08162 51.66126)</td>\n",
       "      <td>-0.081621</td>\n",
       "      <td>51.661264</td>\n",
       "    </tr>\n",
       "    <tr>\n",
       "      <th>4</th>\n",
       "      <td>2903398</td>\n",
       "      <td>7202</td>\n",
       "      <td>park</td>\n",
       "      <td>Bush Hill Park</td>\n",
       "      <td>POLYGON ((-0.07064 51.64713, -0.07058 51.64751...</td>\n",
       "      <td>POINT (-0.06792 51.64850)</td>\n",
       "      <td>-0.067916</td>\n",
       "      <td>51.648504</td>\n",
       "    </tr>\n",
       "  </tbody>\n",
       "</table>\n",
       "</div>"
      ],
      "text/plain": [
       "    osm_id  code fclass            name  \\\n",
       "0  2838058  7202   park            None   \n",
       "1  2903046  7202   park            None   \n",
       "2  2903368  7202   park            None   \n",
       "3  2903369  7202   park            None   \n",
       "4  2903398  7202   park  Bush Hill Park   \n",
       "\n",
       "                                            geometry  \\\n",
       "0  POLYGON ((-0.09186 51.66414, -0.09146 51.66418...   \n",
       "1  POLYGON ((-0.08025 51.66596, -0.08005 51.66690...   \n",
       "2  POLYGON ((-0.08663 51.66215, -0.08653 51.66293...   \n",
       "3  POLYGON ((-0.08266 51.66106, -0.08227 51.66177...   \n",
       "4  POLYGON ((-0.07064 51.64713, -0.07058 51.64751...   \n",
       "\n",
       "                    centroid       lon        lat  \n",
       "0  POINT (-0.09078 51.66464) -0.090778  51.664637  \n",
       "1  POINT (-0.07854 51.66695) -0.078543  51.666949  \n",
       "2  POINT (-0.08612 51.66253) -0.086119  51.662532  \n",
       "3  POINT (-0.08162 51.66126) -0.081621  51.661264  \n",
       "4  POINT (-0.06792 51.64850) -0.067916  51.648504  "
      ]
     },
     "execution_count": 13,
     "metadata": {},
     "output_type": "execute_result"
    }
   ],
   "source": [
    "landuse.head()"
   ]
  },
  {
   "cell_type": "code",
   "execution_count": 14,
   "metadata": {},
   "outputs": [],
   "source": [
    "#limit greenspaces with observations as boundaries (lat)\n",
    "l1 = landuse[landuse['lat'].ge(df.latitude.min()) & landuse['lat'].le(df.latitude.max())]"
   ]
  },
  {
   "cell_type": "code",
   "execution_count": 15,
   "metadata": {},
   "outputs": [],
   "source": [
    "#limit greenspaces with observations as boundaries (lon)\n",
    "l2 = l1[l1['lon'].ge(df.longitude.min()) & l1['lon'].le(df.longitude.max())]"
   ]
  },
  {
   "cell_type": "code",
   "execution_count": 16,
   "metadata": {},
   "outputs": [],
   "source": [
    "landuse_clean=l2"
   ]
  },
  {
   "cell_type": "code",
   "execution_count": 17,
   "metadata": {
    "scrolled": true
   },
   "outputs": [
    {
     "data": {
      "text/plain": [
       "((1320022, 8), (84281, 8))"
      ]
     },
     "execution_count": 17,
     "metadata": {},
     "output_type": "execute_result"
    }
   ],
   "source": [
    "landuse.shape, landuse_clean.shape"
   ]
  },
  {
   "cell_type": "code",
   "execution_count": 18,
   "metadata": {},
   "outputs": [],
   "source": [
    "green=landuse_clean[landuse_clean['fclass'].eq('grass') | \n",
    "        landuse_clean['fclass'].eq('park') | \n",
    "        landuse_clean['fclass'].eq('forest') | \n",
    "        landuse_clean['fclass'].eq('scrub') |\n",
    "        landuse_clean['fclass'].eq('vineyard') | \n",
    "        landuse_clean['fclass'].eq('meadow') |\n",
    "        landuse_clean['fclass'].eq('orchard') |\n",
    "        landuse_clean['fclass'].eq('heath') |\n",
    "        landuse_clean['fclass'].eq('recreation_ground') |\n",
    "        landuse_clean['fclass'].eq('allotments') | \n",
    "        landuse_clean['fclass'].eq('nature_reserve')]"
   ]
  },
  {
   "cell_type": "code",
   "execution_count": 19,
   "metadata": {},
   "outputs": [
    {
     "data": {
      "text/plain": [
       "(53856, 8)"
      ]
     },
     "execution_count": 19,
     "metadata": {},
     "output_type": "execute_result"
    }
   ],
   "source": [
    "green.shape"
   ]
  },
  {
   "cell_type": "code",
   "execution_count": 20,
   "metadata": {
    "scrolled": true
   },
   "outputs": [
    {
     "data": {
      "text/html": [
       "<div>\n",
       "<style scoped>\n",
       "    .dataframe tbody tr th:only-of-type {\n",
       "        vertical-align: middle;\n",
       "    }\n",
       "\n",
       "    .dataframe tbody tr th {\n",
       "        vertical-align: top;\n",
       "    }\n",
       "\n",
       "    .dataframe thead th {\n",
       "        text-align: right;\n",
       "    }\n",
       "</style>\n",
       "<table border=\"1\" class=\"dataframe\">\n",
       "  <thead>\n",
       "    <tr style=\"text-align: right;\">\n",
       "      <th></th>\n",
       "      <th>osm_id</th>\n",
       "      <th>code</th>\n",
       "      <th>fclass</th>\n",
       "      <th>name</th>\n",
       "      <th>geometry</th>\n",
       "      <th>centroid</th>\n",
       "      <th>lon</th>\n",
       "      <th>lat</th>\n",
       "    </tr>\n",
       "  </thead>\n",
       "  <tbody>\n",
       "    <tr>\n",
       "      <th>0</th>\n",
       "      <td>2838058</td>\n",
       "      <td>7202</td>\n",
       "      <td>park</td>\n",
       "      <td>None</td>\n",
       "      <td>POLYGON ((-0.09186 51.66414, -0.09146 51.66418...</td>\n",
       "      <td>POINT (-0.09078 51.66464)</td>\n",
       "      <td>-0.090778</td>\n",
       "      <td>51.664637</td>\n",
       "    </tr>\n",
       "    <tr>\n",
       "      <th>1</th>\n",
       "      <td>2903046</td>\n",
       "      <td>7202</td>\n",
       "      <td>park</td>\n",
       "      <td>None</td>\n",
       "      <td>POLYGON ((-0.08025 51.66596, -0.08005 51.66690...</td>\n",
       "      <td>POINT (-0.07854 51.66695)</td>\n",
       "      <td>-0.078543</td>\n",
       "      <td>51.666949</td>\n",
       "    </tr>\n",
       "    <tr>\n",
       "      <th>2</th>\n",
       "      <td>2903368</td>\n",
       "      <td>7202</td>\n",
       "      <td>park</td>\n",
       "      <td>None</td>\n",
       "      <td>POLYGON ((-0.08663 51.66215, -0.08653 51.66293...</td>\n",
       "      <td>POINT (-0.08612 51.66253)</td>\n",
       "      <td>-0.086119</td>\n",
       "      <td>51.662532</td>\n",
       "    </tr>\n",
       "    <tr>\n",
       "      <th>3</th>\n",
       "      <td>2903369</td>\n",
       "      <td>7202</td>\n",
       "      <td>park</td>\n",
       "      <td>None</td>\n",
       "      <td>POLYGON ((-0.08266 51.66106, -0.08227 51.66177...</td>\n",
       "      <td>POINT (-0.08162 51.66126)</td>\n",
       "      <td>-0.081621</td>\n",
       "      <td>51.661264</td>\n",
       "    </tr>\n",
       "    <tr>\n",
       "      <th>4</th>\n",
       "      <td>2903398</td>\n",
       "      <td>7202</td>\n",
       "      <td>park</td>\n",
       "      <td>Bush Hill Park</td>\n",
       "      <td>POLYGON ((-0.07064 51.64713, -0.07058 51.64751...</td>\n",
       "      <td>POINT (-0.06792 51.64850)</td>\n",
       "      <td>-0.067916</td>\n",
       "      <td>51.648504</td>\n",
       "    </tr>\n",
       "  </tbody>\n",
       "</table>\n",
       "</div>"
      ],
      "text/plain": [
       "    osm_id  code fclass            name  \\\n",
       "0  2838058  7202   park            None   \n",
       "1  2903046  7202   park            None   \n",
       "2  2903368  7202   park            None   \n",
       "3  2903369  7202   park            None   \n",
       "4  2903398  7202   park  Bush Hill Park   \n",
       "\n",
       "                                            geometry  \\\n",
       "0  POLYGON ((-0.09186 51.66414, -0.09146 51.66418...   \n",
       "1  POLYGON ((-0.08025 51.66596, -0.08005 51.66690...   \n",
       "2  POLYGON ((-0.08663 51.66215, -0.08653 51.66293...   \n",
       "3  POLYGON ((-0.08266 51.66106, -0.08227 51.66177...   \n",
       "4  POLYGON ((-0.07064 51.64713, -0.07058 51.64751...   \n",
       "\n",
       "                    centroid       lon        lat  \n",
       "0  POINT (-0.09078 51.66464) -0.090778  51.664637  \n",
       "1  POINT (-0.07854 51.66695) -0.078543  51.666949  \n",
       "2  POINT (-0.08612 51.66253) -0.086119  51.662532  \n",
       "3  POINT (-0.08162 51.66126) -0.081621  51.661264  \n",
       "4  POINT (-0.06792 51.64850) -0.067916  51.648504  "
      ]
     },
     "execution_count": 20,
     "metadata": {},
     "output_type": "execute_result"
    }
   ],
   "source": [
    "green.head()"
   ]
  },
  {
   "cell_type": "code",
   "execution_count": 21,
   "metadata": {},
   "outputs": [],
   "source": [
    "# drop centroid\n",
    "green_clean = green.drop(['centroid'], axis=1)"
   ]
  },
  {
   "cell_type": "code",
   "execution_count": 22,
   "metadata": {},
   "outputs": [
    {
     "data": {
      "text/html": [
       "<div>\n",
       "<style scoped>\n",
       "    .dataframe tbody tr th:only-of-type {\n",
       "        vertical-align: middle;\n",
       "    }\n",
       "\n",
       "    .dataframe tbody tr th {\n",
       "        vertical-align: top;\n",
       "    }\n",
       "\n",
       "    .dataframe thead th {\n",
       "        text-align: right;\n",
       "    }\n",
       "</style>\n",
       "<table border=\"1\" class=\"dataframe\">\n",
       "  <thead>\n",
       "    <tr style=\"text-align: right;\">\n",
       "      <th></th>\n",
       "      <th>osm_id</th>\n",
       "      <th>code</th>\n",
       "      <th>fclass</th>\n",
       "      <th>name</th>\n",
       "      <th>geometry</th>\n",
       "      <th>lon</th>\n",
       "      <th>lat</th>\n",
       "    </tr>\n",
       "  </thead>\n",
       "  <tbody>\n",
       "    <tr>\n",
       "      <th>0</th>\n",
       "      <td>2838058</td>\n",
       "      <td>7202</td>\n",
       "      <td>park</td>\n",
       "      <td>None</td>\n",
       "      <td>POLYGON ((-0.09186 51.66414, -0.09146 51.66418...</td>\n",
       "      <td>-0.090778</td>\n",
       "      <td>51.664637</td>\n",
       "    </tr>\n",
       "    <tr>\n",
       "      <th>1</th>\n",
       "      <td>2903046</td>\n",
       "      <td>7202</td>\n",
       "      <td>park</td>\n",
       "      <td>None</td>\n",
       "      <td>POLYGON ((-0.08025 51.66596, -0.08005 51.66690...</td>\n",
       "      <td>-0.078543</td>\n",
       "      <td>51.666949</td>\n",
       "    </tr>\n",
       "    <tr>\n",
       "      <th>2</th>\n",
       "      <td>2903368</td>\n",
       "      <td>7202</td>\n",
       "      <td>park</td>\n",
       "      <td>None</td>\n",
       "      <td>POLYGON ((-0.08663 51.66215, -0.08653 51.66293...</td>\n",
       "      <td>-0.086119</td>\n",
       "      <td>51.662532</td>\n",
       "    </tr>\n",
       "    <tr>\n",
       "      <th>3</th>\n",
       "      <td>2903369</td>\n",
       "      <td>7202</td>\n",
       "      <td>park</td>\n",
       "      <td>None</td>\n",
       "      <td>POLYGON ((-0.08266 51.66106, -0.08227 51.66177...</td>\n",
       "      <td>-0.081621</td>\n",
       "      <td>51.661264</td>\n",
       "    </tr>\n",
       "    <tr>\n",
       "      <th>4</th>\n",
       "      <td>2903398</td>\n",
       "      <td>7202</td>\n",
       "      <td>park</td>\n",
       "      <td>Bush Hill Park</td>\n",
       "      <td>POLYGON ((-0.07064 51.64713, -0.07058 51.64751...</td>\n",
       "      <td>-0.067916</td>\n",
       "      <td>51.648504</td>\n",
       "    </tr>\n",
       "  </tbody>\n",
       "</table>\n",
       "</div>"
      ],
      "text/plain": [
       "    osm_id  code fclass            name  \\\n",
       "0  2838058  7202   park            None   \n",
       "1  2903046  7202   park            None   \n",
       "2  2903368  7202   park            None   \n",
       "3  2903369  7202   park            None   \n",
       "4  2903398  7202   park  Bush Hill Park   \n",
       "\n",
       "                                            geometry       lon        lat  \n",
       "0  POLYGON ((-0.09186 51.66414, -0.09146 51.66418... -0.090778  51.664637  \n",
       "1  POLYGON ((-0.08025 51.66596, -0.08005 51.66690... -0.078543  51.666949  \n",
       "2  POLYGON ((-0.08663 51.66215, -0.08653 51.66293... -0.086119  51.662532  \n",
       "3  POLYGON ((-0.08266 51.66106, -0.08227 51.66177... -0.081621  51.661264  \n",
       "4  POLYGON ((-0.07064 51.64713, -0.07058 51.64751... -0.067916  51.648504  "
      ]
     },
     "execution_count": 22,
     "metadata": {},
     "output_type": "execute_result"
    }
   ],
   "source": [
    "green_clean.head()"
   ]
  },
  {
   "cell_type": "code",
   "execution_count": 23,
   "metadata": {},
   "outputs": [],
   "source": [
    "#http://download.geofabrik.de/north-america/us/california/socal.html\n",
    "water_cont=gpd.read_file('../data/greater-london-latest-free/gis_osm_water_a_free_1.shp')"
   ]
  },
  {
   "cell_type": "code",
   "execution_count": 24,
   "metadata": {},
   "outputs": [
    {
     "data": {
      "text/plain": [
       "(2532, 5)"
      ]
     },
     "execution_count": 24,
     "metadata": {},
     "output_type": "execute_result"
    }
   ],
   "source": [
    "water_cont.shape"
   ]
  },
  {
   "cell_type": "code",
   "execution_count": 25,
   "metadata": {},
   "outputs": [
    {
     "name": "stderr",
     "output_type": "stream",
     "text": [
      "C:\\Users\\acmar\\miniconda3\\envs\\cs\\lib\\site-packages\\ipykernel_launcher.py:1: UserWarning: Geometry is in a geographic CRS. Results from 'centroid' are likely incorrect. Use 'GeoSeries.to_crs()' to re-project geometries to a projected CRS before this operation.\n",
      "\n",
      "  \"\"\"Entry point for launching an IPython kernel.\n",
      "C:\\Users\\acmar\\miniconda3\\envs\\cs\\lib\\site-packages\\ipykernel_launcher.py:2: UserWarning: Geometry is in a geographic CRS. Results from 'centroid' are likely incorrect. Use 'GeoSeries.to_crs()' to re-project geometries to a projected CRS before this operation.\n",
      "\n",
      "  \n"
     ]
    }
   ],
   "source": [
    "water_cont['centroid'] = water_cont['geometry'].centroid\n",
    "water_cont['lon'], water_cont['lat'] = [list(t) for t in zip(*map(getXY, water_cont.centroid))]"
   ]
  },
  {
   "cell_type": "code",
   "execution_count": 26,
   "metadata": {},
   "outputs": [],
   "source": [
    "wc1 = water_cont[water_cont['lat'].ge(df.latitude.min()) & water_cont['lat'].le(df.latitude.max())]"
   ]
  },
  {
   "cell_type": "code",
   "execution_count": 27,
   "metadata": {},
   "outputs": [],
   "source": [
    "wc2 = wc1[wc1['lon'].ge(df.longitude.min()) & wc1['lon'].le(df.longitude.max())]"
   ]
  },
  {
   "cell_type": "code",
   "execution_count": 28,
   "metadata": {},
   "outputs": [],
   "source": [
    "water_cont_clean=wc2"
   ]
  },
  {
   "cell_type": "code",
   "execution_count": 29,
   "metadata": {},
   "outputs": [
    {
     "data": {
      "text/plain": [
       "((2532, 8), (2463, 8))"
      ]
     },
     "execution_count": 29,
     "metadata": {},
     "output_type": "execute_result"
    }
   ],
   "source": [
    "water_cont.shape, water_cont_clean.shape"
   ]
  },
  {
   "cell_type": "code",
   "execution_count": 30,
   "metadata": {},
   "outputs": [
    {
     "data": {
      "text/html": [
       "<div>\n",
       "<style scoped>\n",
       "    .dataframe tbody tr th:only-of-type {\n",
       "        vertical-align: middle;\n",
       "    }\n",
       "\n",
       "    .dataframe tbody tr th {\n",
       "        vertical-align: top;\n",
       "    }\n",
       "\n",
       "    .dataframe thead th {\n",
       "        text-align: right;\n",
       "    }\n",
       "</style>\n",
       "<table border=\"1\" class=\"dataframe\">\n",
       "  <thead>\n",
       "    <tr style=\"text-align: right;\">\n",
       "      <th></th>\n",
       "      <th>osm_id</th>\n",
       "      <th>code</th>\n",
       "      <th>fclass</th>\n",
       "      <th>name</th>\n",
       "      <th>geometry</th>\n",
       "      <th>centroid</th>\n",
       "      <th>lon</th>\n",
       "      <th>lat</th>\n",
       "    </tr>\n",
       "  </thead>\n",
       "  <tbody>\n",
       "    <tr>\n",
       "      <th>0</th>\n",
       "      <td>2954289</td>\n",
       "      <td>8201</td>\n",
       "      <td>reservoir</td>\n",
       "      <td>Brent Reservoir</td>\n",
       "      <td>POLYGON ((-0.25741 51.56811, -0.25677 51.56838...</td>\n",
       "      <td>POINT (-0.24725 51.57059)</td>\n",
       "      <td>-0.247249</td>\n",
       "      <td>51.570593</td>\n",
       "    </tr>\n",
       "    <tr>\n",
       "      <th>1</th>\n",
       "      <td>3142984</td>\n",
       "      <td>8200</td>\n",
       "      <td>water</td>\n",
       "      <td>Angel Pond</td>\n",
       "      <td>POLYGON ((-0.22699 51.61751, -0.22698 51.61754...</td>\n",
       "      <td>POINT (-0.22685 51.61750)</td>\n",
       "      <td>-0.226851</td>\n",
       "      <td>51.617501</td>\n",
       "    </tr>\n",
       "    <tr>\n",
       "      <th>2</th>\n",
       "      <td>3171810</td>\n",
       "      <td>8201</td>\n",
       "      <td>reservoir</td>\n",
       "      <td>Lockwood Reservoir</td>\n",
       "      <td>POLYGON ((-0.05281 51.59067, -0.05273 51.59096...</td>\n",
       "      <td>POINT (-0.04814 51.59479)</td>\n",
       "      <td>-0.048145</td>\n",
       "      <td>51.594794</td>\n",
       "    </tr>\n",
       "    <tr>\n",
       "      <th>3</th>\n",
       "      <td>3171879</td>\n",
       "      <td>8201</td>\n",
       "      <td>reservoir</td>\n",
       "      <td>Low Maynard Reservoir</td>\n",
       "      <td>POLYGON ((-0.05173 51.58667, -0.05173 51.58676...</td>\n",
       "      <td>POINT (-0.04942 51.58891)</td>\n",
       "      <td>-0.049421</td>\n",
       "      <td>51.588905</td>\n",
       "    </tr>\n",
       "    <tr>\n",
       "      <th>4</th>\n",
       "      <td>3172035</td>\n",
       "      <td>8201</td>\n",
       "      <td>reservoir</td>\n",
       "      <td>None</td>\n",
       "      <td>POLYGON ((-0.04755 51.57490, -0.04642 51.57543...</td>\n",
       "      <td>POINT (-0.04669 51.57493)</td>\n",
       "      <td>-0.046694</td>\n",
       "      <td>51.574925</td>\n",
       "    </tr>\n",
       "  </tbody>\n",
       "</table>\n",
       "</div>"
      ],
      "text/plain": [
       "    osm_id  code     fclass                   name  \\\n",
       "0  2954289  8201  reservoir        Brent Reservoir   \n",
       "1  3142984  8200      water             Angel Pond   \n",
       "2  3171810  8201  reservoir     Lockwood Reservoir   \n",
       "3  3171879  8201  reservoir  Low Maynard Reservoir   \n",
       "4  3172035  8201  reservoir                   None   \n",
       "\n",
       "                                            geometry  \\\n",
       "0  POLYGON ((-0.25741 51.56811, -0.25677 51.56838...   \n",
       "1  POLYGON ((-0.22699 51.61751, -0.22698 51.61754...   \n",
       "2  POLYGON ((-0.05281 51.59067, -0.05273 51.59096...   \n",
       "3  POLYGON ((-0.05173 51.58667, -0.05173 51.58676...   \n",
       "4  POLYGON ((-0.04755 51.57490, -0.04642 51.57543...   \n",
       "\n",
       "                    centroid       lon        lat  \n",
       "0  POINT (-0.24725 51.57059) -0.247249  51.570593  \n",
       "1  POINT (-0.22685 51.61750) -0.226851  51.617501  \n",
       "2  POINT (-0.04814 51.59479) -0.048145  51.594794  \n",
       "3  POINT (-0.04942 51.58891) -0.049421  51.588905  \n",
       "4  POINT (-0.04669 51.57493) -0.046694  51.574925  "
      ]
     },
     "execution_count": 30,
     "metadata": {},
     "output_type": "execute_result"
    }
   ],
   "source": [
    "water_cont_clean.head()"
   ]
  },
  {
   "cell_type": "code",
   "execution_count": 31,
   "metadata": {},
   "outputs": [],
   "source": [
    "water_cont_clean_2=water_cont_clean.drop(['centroid'], axis=1)"
   ]
  },
  {
   "cell_type": "code",
   "execution_count": 32,
   "metadata": {},
   "outputs": [],
   "source": [
    "green_clean_difference=gpd.overlay(green_clean, water_cont_clean_2, how='difference')"
   ]
  },
  {
   "cell_type": "code",
   "execution_count": 33,
   "metadata": {},
   "outputs": [],
   "source": [
    "green=green_clean_difference"
   ]
  },
  {
   "cell_type": "code",
   "execution_count": 34,
   "metadata": {},
   "outputs": [],
   "source": [
    "geom = green.geometry.unary_union"
   ]
  },
  {
   "cell_type": "code",
   "execution_count": 35,
   "metadata": {},
   "outputs": [],
   "source": [
    "green_unique = gpd.GeoDataFrame(geometry=[geom],crs='epsg:4326')"
   ]
  },
  {
   "cell_type": "code",
   "execution_count": 36,
   "metadata": {},
   "outputs": [
    {
     "data": {
      "text/html": [
       "<div>\n",
       "<style scoped>\n",
       "    .dataframe tbody tr th:only-of-type {\n",
       "        vertical-align: middle;\n",
       "    }\n",
       "\n",
       "    .dataframe tbody tr th {\n",
       "        vertical-align: top;\n",
       "    }\n",
       "\n",
       "    .dataframe thead th {\n",
       "        text-align: right;\n",
       "    }\n",
       "</style>\n",
       "<table border=\"1\" class=\"dataframe\">\n",
       "  <thead>\n",
       "    <tr style=\"text-align: right;\">\n",
       "      <th></th>\n",
       "      <th>geometry</th>\n",
       "    </tr>\n",
       "  </thead>\n",
       "  <tbody>\n",
       "    <tr>\n",
       "      <th>0</th>\n",
       "      <td>MULTIPOLYGON (((-0.16633 51.21638, -0.16650 51...</td>\n",
       "    </tr>\n",
       "  </tbody>\n",
       "</table>\n",
       "</div>"
      ],
      "text/plain": [
       "                                            geometry\n",
       "0  MULTIPOLYGON (((-0.16633 51.21638, -0.16650 51..."
      ]
     },
     "execution_count": 36,
     "metadata": {},
     "output_type": "execute_result"
    }
   ],
   "source": [
    "green_unique.head()"
   ]
  },
  {
   "cell_type": "code",
   "execution_count": 37,
   "metadata": {
    "scrolled": false
   },
   "outputs": [
    {
     "data": {
      "text/plain": [
       "<Geographic 2D CRS: EPSG:4326>\n",
       "Name: WGS 84\n",
       "Axis Info [ellipsoidal]:\n",
       "- Lat[north]: Geodetic latitude (degree)\n",
       "- Lon[east]: Geodetic longitude (degree)\n",
       "Area of Use:\n",
       "- name: World\n",
       "- bounds: (-180.0, -90.0, 180.0, 90.0)\n",
       "Datum: World Geodetic System 1984\n",
       "- Ellipsoid: WGS 84\n",
       "- Prime Meridian: Greenwich"
      ]
     },
     "execution_count": 37,
     "metadata": {},
     "output_type": "execute_result"
    }
   ],
   "source": [
    "green_unique.crs"
   ]
  },
  {
   "cell_type": "code",
   "execution_count": 38,
   "metadata": {},
   "outputs": [],
   "source": [
    "green_unique = green_unique.explode().reset_index(drop=True)"
   ]
  },
  {
   "cell_type": "code",
   "execution_count": 39,
   "metadata": {},
   "outputs": [
    {
     "data": {
      "text/html": [
       "<div>\n",
       "<style scoped>\n",
       "    .dataframe tbody tr th:only-of-type {\n",
       "        vertical-align: middle;\n",
       "    }\n",
       "\n",
       "    .dataframe tbody tr th {\n",
       "        vertical-align: top;\n",
       "    }\n",
       "\n",
       "    .dataframe thead th {\n",
       "        text-align: right;\n",
       "    }\n",
       "</style>\n",
       "<table border=\"1\" class=\"dataframe\">\n",
       "  <thead>\n",
       "    <tr style=\"text-align: right;\">\n",
       "      <th></th>\n",
       "      <th>geometry</th>\n",
       "    </tr>\n",
       "  </thead>\n",
       "  <tbody>\n",
       "    <tr>\n",
       "      <th>0</th>\n",
       "      <td>POLYGON ((-0.16633 51.21638, -0.16650 51.21593...</td>\n",
       "    </tr>\n",
       "    <tr>\n",
       "      <th>1</th>\n",
       "      <td>POLYGON ((-0.34201 51.21249, -0.34125 51.21270...</td>\n",
       "    </tr>\n",
       "    <tr>\n",
       "      <th>2</th>\n",
       "      <td>POLYGON ((0.00256 51.23937, 0.00299 51.23896, ...</td>\n",
       "    </tr>\n",
       "    <tr>\n",
       "      <th>3</th>\n",
       "      <td>POLYGON ((-0.23174 51.24215, -0.23167 51.24220...</td>\n",
       "    </tr>\n",
       "    <tr>\n",
       "      <th>4</th>\n",
       "      <td>POLYGON ((-0.32467 51.24743, -0.32462 51.24744...</td>\n",
       "    </tr>\n",
       "  </tbody>\n",
       "</table>\n",
       "</div>"
      ],
      "text/plain": [
       "                                            geometry\n",
       "0  POLYGON ((-0.16633 51.21638, -0.16650 51.21593...\n",
       "1  POLYGON ((-0.34201 51.21249, -0.34125 51.21270...\n",
       "2  POLYGON ((0.00256 51.23937, 0.00299 51.23896, ...\n",
       "3  POLYGON ((-0.23174 51.24215, -0.23167 51.24220...\n",
       "4  POLYGON ((-0.32467 51.24743, -0.32462 51.24744..."
      ]
     },
     "execution_count": 39,
     "metadata": {},
     "output_type": "execute_result"
    }
   ],
   "source": [
    "green_unique.head()"
   ]
  },
  {
   "cell_type": "code",
   "execution_count": 40,
   "metadata": {},
   "outputs": [
    {
     "data": {
      "text/plain": [
       "<Geographic 2D CRS: EPSG:4326>\n",
       "Name: WGS 84\n",
       "Axis Info [ellipsoidal]:\n",
       "- Lat[north]: Geodetic latitude (degree)\n",
       "- Lon[east]: Geodetic longitude (degree)\n",
       "Area of Use:\n",
       "- name: World\n",
       "- bounds: (-180.0, -90.0, 180.0, 90.0)\n",
       "Datum: World Geodetic System 1984\n",
       "- Ellipsoid: WGS 84\n",
       "- Prime Meridian: Greenwich"
      ]
     },
     "execution_count": 40,
     "metadata": {},
     "output_type": "execute_result"
    }
   ],
   "source": [
    "green_unique.crs"
   ]
  },
  {
   "cell_type": "code",
   "execution_count": 41,
   "metadata": {},
   "outputs": [
    {
     "data": {
      "text/plain": [
       "(32758, 1)"
      ]
     },
     "execution_count": 41,
     "metadata": {},
     "output_type": "execute_result"
    }
   ],
   "source": [
    "green_unique.shape"
   ]
  },
  {
   "cell_type": "code",
   "execution_count": 42,
   "metadata": {
    "scrolled": false
   },
   "outputs": [
    {
     "data": {
      "text/plain": [
       "(2463, 8)"
      ]
     },
     "execution_count": 42,
     "metadata": {},
     "output_type": "execute_result"
    }
   ],
   "source": [
    "water_cont_clean.shape"
   ]
  },
  {
   "cell_type": "code",
   "execution_count": 43,
   "metadata": {},
   "outputs": [],
   "source": [
    "geom = water_cont_clean.geometry.unary_union"
   ]
  },
  {
   "cell_type": "code",
   "execution_count": 44,
   "metadata": {},
   "outputs": [],
   "source": [
    "water_cont_clean_unique = gpd.GeoDataFrame(geometry=[geom],crs='epsg:4326')"
   ]
  },
  {
   "cell_type": "code",
   "execution_count": 45,
   "metadata": {},
   "outputs": [
    {
     "data": {
      "text/html": [
       "<div>\n",
       "<style scoped>\n",
       "    .dataframe tbody tr th:only-of-type {\n",
       "        vertical-align: middle;\n",
       "    }\n",
       "\n",
       "    .dataframe tbody tr th {\n",
       "        vertical-align: top;\n",
       "    }\n",
       "\n",
       "    .dataframe thead th {\n",
       "        text-align: right;\n",
       "    }\n",
       "</style>\n",
       "<table border=\"1\" class=\"dataframe\">\n",
       "  <thead>\n",
       "    <tr style=\"text-align: right;\">\n",
       "      <th></th>\n",
       "      <th>geometry</th>\n",
       "    </tr>\n",
       "  </thead>\n",
       "  <tbody>\n",
       "    <tr>\n",
       "      <th>0</th>\n",
       "      <td>MULTIPOLYGON (((0.19779 51.45779, 0.19788 51.4...</td>\n",
       "    </tr>\n",
       "  </tbody>\n",
       "</table>\n",
       "</div>"
      ],
      "text/plain": [
       "                                            geometry\n",
       "0  MULTIPOLYGON (((0.19779 51.45779, 0.19788 51.4..."
      ]
     },
     "execution_count": 45,
     "metadata": {},
     "output_type": "execute_result"
    }
   ],
   "source": [
    "water_cont_clean_unique.head()"
   ]
  },
  {
   "cell_type": "code",
   "execution_count": 46,
   "metadata": {
    "scrolled": false
   },
   "outputs": [
    {
     "data": {
      "text/plain": [
       "<Geographic 2D CRS: EPSG:4326>\n",
       "Name: WGS 84\n",
       "Axis Info [ellipsoidal]:\n",
       "- Lat[north]: Geodetic latitude (degree)\n",
       "- Lon[east]: Geodetic longitude (degree)\n",
       "Area of Use:\n",
       "- name: World\n",
       "- bounds: (-180.0, -90.0, 180.0, 90.0)\n",
       "Datum: World Geodetic System 1984\n",
       "- Ellipsoid: WGS 84\n",
       "- Prime Meridian: Greenwich"
      ]
     },
     "execution_count": 46,
     "metadata": {},
     "output_type": "execute_result"
    }
   ],
   "source": [
    "water_cont_clean_unique.crs"
   ]
  },
  {
   "cell_type": "code",
   "execution_count": 47,
   "metadata": {},
   "outputs": [],
   "source": [
    "water_cont_clean_unique = water_cont_clean_unique.explode().reset_index(drop=True)"
   ]
  },
  {
   "cell_type": "code",
   "execution_count": 48,
   "metadata": {},
   "outputs": [
    {
     "data": {
      "text/html": [
       "<div>\n",
       "<style scoped>\n",
       "    .dataframe tbody tr th:only-of-type {\n",
       "        vertical-align: middle;\n",
       "    }\n",
       "\n",
       "    .dataframe tbody tr th {\n",
       "        vertical-align: top;\n",
       "    }\n",
       "\n",
       "    .dataframe thead th {\n",
       "        text-align: right;\n",
       "    }\n",
       "</style>\n",
       "<table border=\"1\" class=\"dataframe\">\n",
       "  <thead>\n",
       "    <tr style=\"text-align: right;\">\n",
       "      <th></th>\n",
       "      <th>geometry</th>\n",
       "    </tr>\n",
       "  </thead>\n",
       "  <tbody>\n",
       "    <tr>\n",
       "      <th>0</th>\n",
       "      <td>POLYGON ((0.19779 51.45779, 0.19788 51.45788, ...</td>\n",
       "    </tr>\n",
       "    <tr>\n",
       "      <th>1</th>\n",
       "      <td>POLYGON ((0.02079 51.29146, 0.02079 51.29148, ...</td>\n",
       "    </tr>\n",
       "    <tr>\n",
       "      <th>2</th>\n",
       "      <td>POLYGON ((-0.12939 51.29254, -0.12937 51.29256...</td>\n",
       "    </tr>\n",
       "    <tr>\n",
       "      <th>3</th>\n",
       "      <td>POLYGON ((0.04901 51.29253, 0.04904 51.29256, ...</td>\n",
       "    </tr>\n",
       "    <tr>\n",
       "      <th>4</th>\n",
       "      <td>POLYGON ((0.04998 51.29271, 0.04998 51.29275, ...</td>\n",
       "    </tr>\n",
       "  </tbody>\n",
       "</table>\n",
       "</div>"
      ],
      "text/plain": [
       "                                            geometry\n",
       "0  POLYGON ((0.19779 51.45779, 0.19788 51.45788, ...\n",
       "1  POLYGON ((0.02079 51.29146, 0.02079 51.29148, ...\n",
       "2  POLYGON ((-0.12939 51.29254, -0.12937 51.29256...\n",
       "3  POLYGON ((0.04901 51.29253, 0.04904 51.29256, ...\n",
       "4  POLYGON ((0.04998 51.29271, 0.04998 51.29275, ..."
      ]
     },
     "execution_count": 48,
     "metadata": {},
     "output_type": "execute_result"
    }
   ],
   "source": [
    "water_cont_clean_unique.head()"
   ]
  },
  {
   "cell_type": "code",
   "execution_count": 49,
   "metadata": {},
   "outputs": [
    {
     "data": {
      "text/plain": [
       "<Geographic 2D CRS: EPSG:4326>\n",
       "Name: WGS 84\n",
       "Axis Info [ellipsoidal]:\n",
       "- Lat[north]: Geodetic latitude (degree)\n",
       "- Lon[east]: Geodetic longitude (degree)\n",
       "Area of Use:\n",
       "- name: World\n",
       "- bounds: (-180.0, -90.0, 180.0, 90.0)\n",
       "Datum: World Geodetic System 1984\n",
       "- Ellipsoid: WGS 84\n",
       "- Prime Meridian: Greenwich"
      ]
     },
     "execution_count": 49,
     "metadata": {},
     "output_type": "execute_result"
    }
   ],
   "source": [
    "water_cont_clean_unique.crs"
   ]
  },
  {
   "cell_type": "code",
   "execution_count": 50,
   "metadata": {
    "scrolled": true
   },
   "outputs": [
    {
     "data": {
      "text/plain": [
       "(1884, 1)"
      ]
     },
     "execution_count": 50,
     "metadata": {},
     "output_type": "execute_result"
    }
   ],
   "source": [
    "water_cont_clean_unique.shape"
   ]
  },
  {
   "cell_type": "code",
   "execution_count": 51,
   "metadata": {},
   "outputs": [],
   "source": [
    "green_unique.to_file('../data/outputs/greenspaces_ldn_final.shp')\n",
    "water_cont_clean_unique.to_file('../data/outputs/bluespaces_ldn_final.shp')"
   ]
  }
 ],
 "metadata": {
  "kernelspec": {
   "display_name": "Python 3",
   "language": "python",
   "name": "python3"
  },
  "language_info": {
   "codemirror_mode": {
    "name": "ipython",
    "version": 3
   },
   "file_extension": ".py",
   "mimetype": "text/x-python",
   "name": "python",
   "nbconvert_exporter": "python",
   "pygments_lexer": "ipython3",
   "version": "3.7.8"
  }
 },
 "nbformat": 4,
 "nbformat_minor": 4
}
