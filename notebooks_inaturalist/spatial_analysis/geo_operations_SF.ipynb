{
 "cells": [
  {
   "cell_type": "markdown",
   "metadata": {},
   "source": [
    "## Steps\n",
    "\n",
    "#### Load observations, greenspaces, ocean and continetal waters\n",
    "#### Exclude the greenspaces within ocean and continental waters (key: nature_reserve)\n",
    "#### Exclude overlapping geometries \n",
    "#### Export files as .shp"
   ]
  },
  {
   "cell_type": "code",
   "execution_count": 1,
   "metadata": {},
   "outputs": [],
   "source": [
    "#import libraries\n",
    "import pandas as pd \n",
    "import numpy as np\n",
    "from glob2 import glob\n",
    "import geopandas as gpd \n",
    "import osmnx as ox"
   ]
  },
  {
   "cell_type": "code",
   "execution_count": 2,
   "metadata": {},
   "outputs": [],
   "source": [
    "#get California as gdf to check anomalies. Points outside California will be excluded\n",
    "ca=ox.geocode_to_gdf('California')"
   ]
  },
  {
   "cell_type": "code",
   "execution_count": 3,
   "metadata": {},
   "outputs": [],
   "source": [
    "#load observations\n",
    "data_folder = '../data/observations_final'\n",
    "df = pd.concat([pd.read_csv(f).assign(challenge=f.replace('.csv','')) for f in glob(data_folder+'/CNC_San_Francisco_*.csv')])"
   ]
  },
  {
   "cell_type": "code",
   "execution_count": 4,
   "metadata": {},
   "outputs": [
    {
     "data": {
      "text/plain": [
       "(139040, 39)"
      ]
     },
     "execution_count": 4,
     "metadata": {},
     "output_type": "execute_result"
    }
   ],
   "source": [
    "df.shape"
   ]
  },
  {
   "cell_type": "code",
   "execution_count": 5,
   "metadata": {},
   "outputs": [],
   "source": [
    "#exclude anomalies\n",
    "df=df[df['latitude'].le(ca['bbox_north'].iloc[0]) \\\n",
    "                  & df['latitude'].ge(ca['bbox_south'].iloc[0]) \\\n",
    "                  & df['longitude'].le(ca['bbox_east'].iloc[0]) \\\n",
    "                  & df['longitude'].ge(ca['bbox_west'].iloc[0])]"
   ]
  },
  {
   "cell_type": "code",
   "execution_count": 6,
   "metadata": {},
   "outputs": [],
   "source": [
    "#create year \n",
    "df['year']=df['time_observed_at'].str[0:4].astype('int64')"
   ]
  },
  {
   "cell_type": "code",
   "execution_count": 7,
   "metadata": {},
   "outputs": [
    {
     "data": {
      "text/plain": [
       "(139038, 40)"
      ]
     },
     "execution_count": 7,
     "metadata": {},
     "output_type": "execute_result"
    }
   ],
   "source": [
    "df.shape"
   ]
  },
  {
   "cell_type": "code",
   "execution_count": 8,
   "metadata": {},
   "outputs": [],
   "source": [
    "#load greenspaces\n",
    "#http://download.geofabrik.de/north-america/us/california/socal.html\n",
    "landuse=gpd.read_file('../data/norcal-latest-free/gis_osm_landuse_a_free_1.shp')"
   ]
  },
  {
   "cell_type": "code",
   "execution_count": 9,
   "metadata": {},
   "outputs": [
    {
     "data": {
      "text/plain": [
       "(293241, 5)"
      ]
     },
     "execution_count": 9,
     "metadata": {},
     "output_type": "execute_result"
    }
   ],
   "source": [
    "landuse.shape"
   ]
  },
  {
   "cell_type": "code",
   "execution_count": 10,
   "metadata": {},
   "outputs": [
    {
     "data": {
      "text/html": [
       "<div>\n",
       "<style scoped>\n",
       "    .dataframe tbody tr th:only-of-type {\n",
       "        vertical-align: middle;\n",
       "    }\n",
       "\n",
       "    .dataframe tbody tr th {\n",
       "        vertical-align: top;\n",
       "    }\n",
       "\n",
       "    .dataframe thead th {\n",
       "        text-align: right;\n",
       "    }\n",
       "</style>\n",
       "<table border=\"1\" class=\"dataframe\">\n",
       "  <thead>\n",
       "    <tr style=\"text-align: right;\">\n",
       "      <th></th>\n",
       "      <th>osm_id</th>\n",
       "      <th>code</th>\n",
       "      <th>fclass</th>\n",
       "      <th>name</th>\n",
       "      <th>geometry</th>\n",
       "    </tr>\n",
       "  </thead>\n",
       "  <tbody>\n",
       "    <tr>\n",
       "      <th>0</th>\n",
       "      <td>4786596</td>\n",
       "      <td>7202</td>\n",
       "      <td>park</td>\n",
       "      <td>Klein Park</td>\n",
       "      <td>POLYGON ((-122.10458 37.40042, -122.10457 37.4...</td>\n",
       "    </tr>\n",
       "    <tr>\n",
       "      <th>1</th>\n",
       "      <td>7459901</td>\n",
       "      <td>7202</td>\n",
       "      <td>park</td>\n",
       "      <td>Buena Vista Park</td>\n",
       "      <td>POLYGON ((-122.44378 37.76757, -122.44358 37.7...</td>\n",
       "    </tr>\n",
       "    <tr>\n",
       "      <th>2</th>\n",
       "      <td>7459901</td>\n",
       "      <td>7201</td>\n",
       "      <td>forest</td>\n",
       "      <td>Buena Vista Park</td>\n",
       "      <td>POLYGON ((-122.44378 37.76757, -122.44358 37.7...</td>\n",
       "    </tr>\n",
       "    <tr>\n",
       "      <th>3</th>\n",
       "      <td>7805676</td>\n",
       "      <td>7202</td>\n",
       "      <td>park</td>\n",
       "      <td>People's Park</td>\n",
       "      <td>POLYGON ((-122.25798 37.86603, -122.25643 37.8...</td>\n",
       "    </tr>\n",
       "    <tr>\n",
       "      <th>4</th>\n",
       "      <td>8948101</td>\n",
       "      <td>7202</td>\n",
       "      <td>park</td>\n",
       "      <td>Babbs Creek Park Preserve</td>\n",
       "      <td>POLYGON ((-121.57734 36.98635, -121.57734 36.9...</td>\n",
       "    </tr>\n",
       "  </tbody>\n",
       "</table>\n",
       "</div>"
      ],
      "text/plain": [
       "    osm_id  code  fclass                       name  \\\n",
       "0  4786596  7202    park                 Klein Park   \n",
       "1  7459901  7202    park           Buena Vista Park   \n",
       "2  7459901  7201  forest           Buena Vista Park   \n",
       "3  7805676  7202    park              People's Park   \n",
       "4  8948101  7202    park  Babbs Creek Park Preserve   \n",
       "\n",
       "                                            geometry  \n",
       "0  POLYGON ((-122.10458 37.40042, -122.10457 37.4...  \n",
       "1  POLYGON ((-122.44378 37.76757, -122.44358 37.7...  \n",
       "2  POLYGON ((-122.44378 37.76757, -122.44358 37.7...  \n",
       "3  POLYGON ((-122.25798 37.86603, -122.25643 37.8...  \n",
       "4  POLYGON ((-121.57734 36.98635, -121.57734 36.9...  "
      ]
     },
     "execution_count": 10,
     "metadata": {},
     "output_type": "execute_result"
    }
   ],
   "source": [
    "landuse.head()"
   ]
  },
  {
   "cell_type": "code",
   "execution_count": 11,
   "metadata": {},
   "outputs": [],
   "source": [
    "#define function to get coordinates using the centroids\n",
    "def getXY(pt):\n",
    "    return (pt.x, pt.y)"
   ]
  },
  {
   "cell_type": "code",
   "execution_count": 12,
   "metadata": {
    "scrolled": true
   },
   "outputs": [
    {
     "name": "stderr",
     "output_type": "stream",
     "text": [
      "C:\\Users\\acmar\\miniconda3\\envs\\cs\\lib\\site-packages\\ipykernel_launcher.py:2: UserWarning: Geometry is in a geographic CRS. Results from 'centroid' are likely incorrect. Use 'GeoSeries.to_crs()' to re-project geometries to a projected CRS before this operation.\n",
      "\n",
      "  \n",
      "C:\\Users\\acmar\\miniconda3\\envs\\cs\\lib\\site-packages\\ipykernel_launcher.py:3: UserWarning: Geometry is in a geographic CRS. Results from 'centroid' are likely incorrect. Use 'GeoSeries.to_crs()' to re-project geometries to a projected CRS before this operation.\n",
      "\n",
      "  This is separate from the ipykernel package so we can avoid doing imports until\n"
     ]
    }
   ],
   "source": [
    "#get coordinates\n",
    "landuse['centroid'] = landuse['geometry'].centroid\n",
    "landuse['lon'], landuse['lat'] = [list(t) for t in zip(*map(getXY, landuse.centroid))]"
   ]
  },
  {
   "cell_type": "code",
   "execution_count": 13,
   "metadata": {},
   "outputs": [
    {
     "data": {
      "text/html": [
       "<div>\n",
       "<style scoped>\n",
       "    .dataframe tbody tr th:only-of-type {\n",
       "        vertical-align: middle;\n",
       "    }\n",
       "\n",
       "    .dataframe tbody tr th {\n",
       "        vertical-align: top;\n",
       "    }\n",
       "\n",
       "    .dataframe thead th {\n",
       "        text-align: right;\n",
       "    }\n",
       "</style>\n",
       "<table border=\"1\" class=\"dataframe\">\n",
       "  <thead>\n",
       "    <tr style=\"text-align: right;\">\n",
       "      <th></th>\n",
       "      <th>osm_id</th>\n",
       "      <th>code</th>\n",
       "      <th>fclass</th>\n",
       "      <th>name</th>\n",
       "      <th>geometry</th>\n",
       "      <th>centroid</th>\n",
       "      <th>lon</th>\n",
       "      <th>lat</th>\n",
       "    </tr>\n",
       "  </thead>\n",
       "  <tbody>\n",
       "    <tr>\n",
       "      <th>0</th>\n",
       "      <td>4786596</td>\n",
       "      <td>7202</td>\n",
       "      <td>park</td>\n",
       "      <td>Klein Park</td>\n",
       "      <td>POLYGON ((-122.10458 37.40042, -122.10457 37.4...</td>\n",
       "      <td>POINT (-122.10394 37.40072)</td>\n",
       "      <td>-122.103938</td>\n",
       "      <td>37.400718</td>\n",
       "    </tr>\n",
       "    <tr>\n",
       "      <th>1</th>\n",
       "      <td>7459901</td>\n",
       "      <td>7202</td>\n",
       "      <td>park</td>\n",
       "      <td>Buena Vista Park</td>\n",
       "      <td>POLYGON ((-122.44378 37.76757, -122.44358 37.7...</td>\n",
       "      <td>POINT (-122.44139 37.76854)</td>\n",
       "      <td>-122.441393</td>\n",
       "      <td>37.768543</td>\n",
       "    </tr>\n",
       "    <tr>\n",
       "      <th>2</th>\n",
       "      <td>7459901</td>\n",
       "      <td>7201</td>\n",
       "      <td>forest</td>\n",
       "      <td>Buena Vista Park</td>\n",
       "      <td>POLYGON ((-122.44378 37.76757, -122.44358 37.7...</td>\n",
       "      <td>POINT (-122.44139 37.76854)</td>\n",
       "      <td>-122.441393</td>\n",
       "      <td>37.768543</td>\n",
       "    </tr>\n",
       "    <tr>\n",
       "      <th>3</th>\n",
       "      <td>7805676</td>\n",
       "      <td>7202</td>\n",
       "      <td>park</td>\n",
       "      <td>People's Park</td>\n",
       "      <td>POLYGON ((-122.25798 37.86603, -122.25643 37.8...</td>\n",
       "      <td>POINT (-122.25713 37.86576)</td>\n",
       "      <td>-122.257131</td>\n",
       "      <td>37.865758</td>\n",
       "    </tr>\n",
       "    <tr>\n",
       "      <th>4</th>\n",
       "      <td>8948101</td>\n",
       "      <td>7202</td>\n",
       "      <td>park</td>\n",
       "      <td>Babbs Creek Park Preserve</td>\n",
       "      <td>POLYGON ((-121.57734 36.98635, -121.57734 36.9...</td>\n",
       "      <td>POINT (-121.57547 36.98769)</td>\n",
       "      <td>-121.575468</td>\n",
       "      <td>36.987693</td>\n",
       "    </tr>\n",
       "  </tbody>\n",
       "</table>\n",
       "</div>"
      ],
      "text/plain": [
       "    osm_id  code  fclass                       name  \\\n",
       "0  4786596  7202    park                 Klein Park   \n",
       "1  7459901  7202    park           Buena Vista Park   \n",
       "2  7459901  7201  forest           Buena Vista Park   \n",
       "3  7805676  7202    park              People's Park   \n",
       "4  8948101  7202    park  Babbs Creek Park Preserve   \n",
       "\n",
       "                                            geometry  \\\n",
       "0  POLYGON ((-122.10458 37.40042, -122.10457 37.4...   \n",
       "1  POLYGON ((-122.44378 37.76757, -122.44358 37.7...   \n",
       "2  POLYGON ((-122.44378 37.76757, -122.44358 37.7...   \n",
       "3  POLYGON ((-122.25798 37.86603, -122.25643 37.8...   \n",
       "4  POLYGON ((-121.57734 36.98635, -121.57734 36.9...   \n",
       "\n",
       "                      centroid         lon        lat  \n",
       "0  POINT (-122.10394 37.40072) -122.103938  37.400718  \n",
       "1  POINT (-122.44139 37.76854) -122.441393  37.768543  \n",
       "2  POINT (-122.44139 37.76854) -122.441393  37.768543  \n",
       "3  POINT (-122.25713 37.86576) -122.257131  37.865758  \n",
       "4  POINT (-121.57547 36.98769) -121.575468  36.987693  "
      ]
     },
     "execution_count": 13,
     "metadata": {},
     "output_type": "execute_result"
    }
   ],
   "source": [
    "landuse.head()"
   ]
  },
  {
   "cell_type": "code",
   "execution_count": 14,
   "metadata": {},
   "outputs": [],
   "source": [
    "#limit greenspaces with observations as boundaries (lat)\n",
    "l1 = landuse[landuse['lat'].ge(df.latitude.min()) & landuse['lat'].le(df.latitude.max())]"
   ]
  },
  {
   "cell_type": "code",
   "execution_count": 15,
   "metadata": {},
   "outputs": [],
   "source": [
    "#limit greenspaces with observations as boundaries (lon)\n",
    "l2 = l1[l1['lon'].ge(df.longitude.min()) & l1['lon'].le(df.longitude.max())]"
   ]
  },
  {
   "cell_type": "code",
   "execution_count": 16,
   "metadata": {},
   "outputs": [],
   "source": [
    "landuse_clean=l2"
   ]
  },
  {
   "cell_type": "code",
   "execution_count": 17,
   "metadata": {
    "scrolled": true
   },
   "outputs": [
    {
     "data": {
      "text/plain": [
       "((293241, 8), (58198, 8))"
      ]
     },
     "execution_count": 17,
     "metadata": {},
     "output_type": "execute_result"
    }
   ],
   "source": [
    "landuse.shape, landuse_clean.shape"
   ]
  },
  {
   "cell_type": "code",
   "execution_count": 19,
   "metadata": {},
   "outputs": [],
   "source": [
    "green=landuse_clean[landuse_clean['fclass'].eq('grass') | \n",
    "        landuse_clean['fclass'].eq('park') | \n",
    "        landuse_clean['fclass'].eq('forest') | \n",
    "        landuse_clean['fclass'].eq('scrub') |\n",
    "        landuse_clean['fclass'].eq('vineyard') | \n",
    "        landuse_clean['fclass'].eq('meadow') |\n",
    "        landuse_clean['fclass'].eq('orchard') |\n",
    "        landuse_clean['fclass'].eq('heath') |\n",
    "        landuse_clean['fclass'].eq('recreation_ground') |\n",
    "        landuse_clean['fclass'].eq('allotments') | \n",
    "        landuse_clean['fclass'].eq('nature_reserve')]"
   ]
  },
  {
   "cell_type": "code",
   "execution_count": 20,
   "metadata": {},
   "outputs": [
    {
     "data": {
      "text/plain": [
       "(34910, 8)"
      ]
     },
     "execution_count": 20,
     "metadata": {},
     "output_type": "execute_result"
    }
   ],
   "source": [
    "green.shape"
   ]
  },
  {
   "cell_type": "code",
   "execution_count": 21,
   "metadata": {
    "scrolled": true
   },
   "outputs": [
    {
     "data": {
      "text/html": [
       "<div>\n",
       "<style scoped>\n",
       "    .dataframe tbody tr th:only-of-type {\n",
       "        vertical-align: middle;\n",
       "    }\n",
       "\n",
       "    .dataframe tbody tr th {\n",
       "        vertical-align: top;\n",
       "    }\n",
       "\n",
       "    .dataframe thead th {\n",
       "        text-align: right;\n",
       "    }\n",
       "</style>\n",
       "<table border=\"1\" class=\"dataframe\">\n",
       "  <thead>\n",
       "    <tr style=\"text-align: right;\">\n",
       "      <th></th>\n",
       "      <th>osm_id</th>\n",
       "      <th>code</th>\n",
       "      <th>fclass</th>\n",
       "      <th>name</th>\n",
       "      <th>geometry</th>\n",
       "      <th>centroid</th>\n",
       "      <th>lon</th>\n",
       "      <th>lat</th>\n",
       "    </tr>\n",
       "  </thead>\n",
       "  <tbody>\n",
       "    <tr>\n",
       "      <th>0</th>\n",
       "      <td>4786596</td>\n",
       "      <td>7202</td>\n",
       "      <td>park</td>\n",
       "      <td>Klein Park</td>\n",
       "      <td>POLYGON ((-122.10458 37.40042, -122.10457 37.4...</td>\n",
       "      <td>POINT (-122.10394 37.40072)</td>\n",
       "      <td>-122.103938</td>\n",
       "      <td>37.400718</td>\n",
       "    </tr>\n",
       "    <tr>\n",
       "      <th>1</th>\n",
       "      <td>7459901</td>\n",
       "      <td>7202</td>\n",
       "      <td>park</td>\n",
       "      <td>Buena Vista Park</td>\n",
       "      <td>POLYGON ((-122.44378 37.76757, -122.44358 37.7...</td>\n",
       "      <td>POINT (-122.44139 37.76854)</td>\n",
       "      <td>-122.441393</td>\n",
       "      <td>37.768543</td>\n",
       "    </tr>\n",
       "    <tr>\n",
       "      <th>2</th>\n",
       "      <td>7459901</td>\n",
       "      <td>7201</td>\n",
       "      <td>forest</td>\n",
       "      <td>Buena Vista Park</td>\n",
       "      <td>POLYGON ((-122.44378 37.76757, -122.44358 37.7...</td>\n",
       "      <td>POINT (-122.44139 37.76854)</td>\n",
       "      <td>-122.441393</td>\n",
       "      <td>37.768543</td>\n",
       "    </tr>\n",
       "    <tr>\n",
       "      <th>3</th>\n",
       "      <td>7805676</td>\n",
       "      <td>7202</td>\n",
       "      <td>park</td>\n",
       "      <td>People's Park</td>\n",
       "      <td>POLYGON ((-122.25798 37.86603, -122.25643 37.8...</td>\n",
       "      <td>POINT (-122.25713 37.86576)</td>\n",
       "      <td>-122.257131</td>\n",
       "      <td>37.865758</td>\n",
       "    </tr>\n",
       "    <tr>\n",
       "      <th>5</th>\n",
       "      <td>10321607</td>\n",
       "      <td>7202</td>\n",
       "      <td>park</td>\n",
       "      <td>César Chávez Park</td>\n",
       "      <td>POLYGON ((-122.32481 37.87452, -122.32466 37.8...</td>\n",
       "      <td>POINT (-122.31959 37.87253)</td>\n",
       "      <td>-122.319586</td>\n",
       "      <td>37.872531</td>\n",
       "    </tr>\n",
       "  </tbody>\n",
       "</table>\n",
       "</div>"
      ],
      "text/plain": [
       "     osm_id  code  fclass               name  \\\n",
       "0   4786596  7202    park         Klein Park   \n",
       "1   7459901  7202    park   Buena Vista Park   \n",
       "2   7459901  7201  forest   Buena Vista Park   \n",
       "3   7805676  7202    park      People's Park   \n",
       "5  10321607  7202    park  César Chávez Park   \n",
       "\n",
       "                                            geometry  \\\n",
       "0  POLYGON ((-122.10458 37.40042, -122.10457 37.4...   \n",
       "1  POLYGON ((-122.44378 37.76757, -122.44358 37.7...   \n",
       "2  POLYGON ((-122.44378 37.76757, -122.44358 37.7...   \n",
       "3  POLYGON ((-122.25798 37.86603, -122.25643 37.8...   \n",
       "5  POLYGON ((-122.32481 37.87452, -122.32466 37.8...   \n",
       "\n",
       "                      centroid         lon        lat  \n",
       "0  POINT (-122.10394 37.40072) -122.103938  37.400718  \n",
       "1  POINT (-122.44139 37.76854) -122.441393  37.768543  \n",
       "2  POINT (-122.44139 37.76854) -122.441393  37.768543  \n",
       "3  POINT (-122.25713 37.86576) -122.257131  37.865758  \n",
       "5  POINT (-122.31959 37.87253) -122.319586  37.872531  "
      ]
     },
     "execution_count": 21,
     "metadata": {},
     "output_type": "execute_result"
    }
   ],
   "source": [
    "green.head()"
   ]
  },
  {
   "cell_type": "code",
   "execution_count": 22,
   "metadata": {},
   "outputs": [],
   "source": [
    "# drop centroid\n",
    "green_clean = green.drop(['centroid'], axis=1)"
   ]
  },
  {
   "cell_type": "code",
   "execution_count": 23,
   "metadata": {},
   "outputs": [
    {
     "data": {
      "text/html": [
       "<div>\n",
       "<style scoped>\n",
       "    .dataframe tbody tr th:only-of-type {\n",
       "        vertical-align: middle;\n",
       "    }\n",
       "\n",
       "    .dataframe tbody tr th {\n",
       "        vertical-align: top;\n",
       "    }\n",
       "\n",
       "    .dataframe thead th {\n",
       "        text-align: right;\n",
       "    }\n",
       "</style>\n",
       "<table border=\"1\" class=\"dataframe\">\n",
       "  <thead>\n",
       "    <tr style=\"text-align: right;\">\n",
       "      <th></th>\n",
       "      <th>osm_id</th>\n",
       "      <th>code</th>\n",
       "      <th>fclass</th>\n",
       "      <th>name</th>\n",
       "      <th>geometry</th>\n",
       "      <th>lon</th>\n",
       "      <th>lat</th>\n",
       "    </tr>\n",
       "  </thead>\n",
       "  <tbody>\n",
       "    <tr>\n",
       "      <th>0</th>\n",
       "      <td>4786596</td>\n",
       "      <td>7202</td>\n",
       "      <td>park</td>\n",
       "      <td>Klein Park</td>\n",
       "      <td>POLYGON ((-122.10458 37.40042, -122.10457 37.4...</td>\n",
       "      <td>-122.103938</td>\n",
       "      <td>37.400718</td>\n",
       "    </tr>\n",
       "    <tr>\n",
       "      <th>1</th>\n",
       "      <td>7459901</td>\n",
       "      <td>7202</td>\n",
       "      <td>park</td>\n",
       "      <td>Buena Vista Park</td>\n",
       "      <td>POLYGON ((-122.44378 37.76757, -122.44358 37.7...</td>\n",
       "      <td>-122.441393</td>\n",
       "      <td>37.768543</td>\n",
       "    </tr>\n",
       "    <tr>\n",
       "      <th>2</th>\n",
       "      <td>7459901</td>\n",
       "      <td>7201</td>\n",
       "      <td>forest</td>\n",
       "      <td>Buena Vista Park</td>\n",
       "      <td>POLYGON ((-122.44378 37.76757, -122.44358 37.7...</td>\n",
       "      <td>-122.441393</td>\n",
       "      <td>37.768543</td>\n",
       "    </tr>\n",
       "    <tr>\n",
       "      <th>3</th>\n",
       "      <td>7805676</td>\n",
       "      <td>7202</td>\n",
       "      <td>park</td>\n",
       "      <td>People's Park</td>\n",
       "      <td>POLYGON ((-122.25798 37.86603, -122.25643 37.8...</td>\n",
       "      <td>-122.257131</td>\n",
       "      <td>37.865758</td>\n",
       "    </tr>\n",
       "    <tr>\n",
       "      <th>5</th>\n",
       "      <td>10321607</td>\n",
       "      <td>7202</td>\n",
       "      <td>park</td>\n",
       "      <td>César Chávez Park</td>\n",
       "      <td>POLYGON ((-122.32481 37.87452, -122.32466 37.8...</td>\n",
       "      <td>-122.319586</td>\n",
       "      <td>37.872531</td>\n",
       "    </tr>\n",
       "  </tbody>\n",
       "</table>\n",
       "</div>"
      ],
      "text/plain": [
       "     osm_id  code  fclass               name  \\\n",
       "0   4786596  7202    park         Klein Park   \n",
       "1   7459901  7202    park   Buena Vista Park   \n",
       "2   7459901  7201  forest   Buena Vista Park   \n",
       "3   7805676  7202    park      People's Park   \n",
       "5  10321607  7202    park  César Chávez Park   \n",
       "\n",
       "                                            geometry         lon        lat  \n",
       "0  POLYGON ((-122.10458 37.40042, -122.10457 37.4... -122.103938  37.400718  \n",
       "1  POLYGON ((-122.44378 37.76757, -122.44358 37.7... -122.441393  37.768543  \n",
       "2  POLYGON ((-122.44378 37.76757, -122.44358 37.7... -122.441393  37.768543  \n",
       "3  POLYGON ((-122.25798 37.86603, -122.25643 37.8... -122.257131  37.865758  \n",
       "5  POLYGON ((-122.32481 37.87452, -122.32466 37.8... -122.319586  37.872531  "
      ]
     },
     "execution_count": 23,
     "metadata": {},
     "output_type": "execute_result"
    }
   ],
   "source": [
    "green_clean.head()"
   ]
  },
  {
   "cell_type": "code",
   "execution_count": 24,
   "metadata": {},
   "outputs": [],
   "source": [
    "#ocean\n",
    "#https://osmdata.openstreetmap.de/data/water-polygons.html\n",
    "water=gpd.read_file('../data/water-polygons-split-4326/water-polygons-split-4326/water_polygons.shp')"
   ]
  },
  {
   "cell_type": "code",
   "execution_count": 25,
   "metadata": {},
   "outputs": [
    {
     "data": {
      "text/plain": [
       "(53282, 3)"
      ]
     },
     "execution_count": 25,
     "metadata": {},
     "output_type": "execute_result"
    }
   ],
   "source": [
    "water.shape"
   ]
  },
  {
   "cell_type": "code",
   "execution_count": 26,
   "metadata": {},
   "outputs": [
    {
     "data": {
      "text/html": [
       "<div>\n",
       "<style scoped>\n",
       "    .dataframe tbody tr th:only-of-type {\n",
       "        vertical-align: middle;\n",
       "    }\n",
       "\n",
       "    .dataframe tbody tr th {\n",
       "        vertical-align: top;\n",
       "    }\n",
       "\n",
       "    .dataframe thead th {\n",
       "        text-align: right;\n",
       "    }\n",
       "</style>\n",
       "<table border=\"1\" class=\"dataframe\">\n",
       "  <thead>\n",
       "    <tr style=\"text-align: right;\">\n",
       "      <th></th>\n",
       "      <th>x</th>\n",
       "      <th>y</th>\n",
       "      <th>geometry</th>\n",
       "    </tr>\n",
       "  </thead>\n",
       "  <tbody>\n",
       "    <tr>\n",
       "      <th>0</th>\n",
       "      <td>1</td>\n",
       "      <td>41</td>\n",
       "      <td>POLYGON ((0.99933 40.99950, 0.99933 41.04319, ...</td>\n",
       "    </tr>\n",
       "    <tr>\n",
       "      <th>1</th>\n",
       "      <td>-11</td>\n",
       "      <td>-72</td>\n",
       "      <td>POLYGON ((-11.00158 -71.04396, -11.00158 -71.0...</td>\n",
       "    </tr>\n",
       "    <tr>\n",
       "      <th>2</th>\n",
       "      <td>-11</td>\n",
       "      <td>-72</td>\n",
       "      <td>POLYGON ((-10.81949 -70.99950, -10.75741 -70.9...</td>\n",
       "    </tr>\n",
       "    <tr>\n",
       "      <th>3</th>\n",
       "      <td>148</td>\n",
       "      <td>-11</td>\n",
       "      <td>POLYGON ((147.99949 -11.00050, 147.99949 -10.1...</td>\n",
       "    </tr>\n",
       "    <tr>\n",
       "      <th>4</th>\n",
       "      <td>-25</td>\n",
       "      <td>81</td>\n",
       "      <td>POLYGON ((-25.00338 81.58330, -25.00338 81.720...</td>\n",
       "    </tr>\n",
       "  </tbody>\n",
       "</table>\n",
       "</div>"
      ],
      "text/plain": [
       "     x   y                                           geometry\n",
       "0    1  41  POLYGON ((0.99933 40.99950, 0.99933 41.04319, ...\n",
       "1  -11 -72  POLYGON ((-11.00158 -71.04396, -11.00158 -71.0...\n",
       "2  -11 -72  POLYGON ((-10.81949 -70.99950, -10.75741 -70.9...\n",
       "3  148 -11  POLYGON ((147.99949 -11.00050, 147.99949 -10.1...\n",
       "4  -25  81  POLYGON ((-25.00338 81.58330, -25.00338 81.720..."
      ]
     },
     "execution_count": 26,
     "metadata": {},
     "output_type": "execute_result"
    }
   ],
   "source": [
    "water.head()"
   ]
  },
  {
   "cell_type": "code",
   "execution_count": 27,
   "metadata": {},
   "outputs": [
    {
     "name": "stderr",
     "output_type": "stream",
     "text": [
      "C:\\Users\\acmar\\miniconda3\\envs\\cs\\lib\\site-packages\\ipykernel_launcher.py:1: UserWarning: Geometry is in a geographic CRS. Results from 'centroid' are likely incorrect. Use 'GeoSeries.to_crs()' to re-project geometries to a projected CRS before this operation.\n",
      "\n",
      "  \"\"\"Entry point for launching an IPython kernel.\n",
      "C:\\Users\\acmar\\miniconda3\\envs\\cs\\lib\\site-packages\\ipykernel_launcher.py:2: UserWarning: Geometry is in a geographic CRS. Results from 'centroid' are likely incorrect. Use 'GeoSeries.to_crs()' to re-project geometries to a projected CRS before this operation.\n",
      "\n",
      "  \n"
     ]
    }
   ],
   "source": [
    "water['centroid'] = water['geometry'].centroid\n",
    "water['lon'], water['lat'] = [list(t) for t in zip(*map(getXY, water.centroid))]"
   ]
  },
  {
   "cell_type": "code",
   "execution_count": 28,
   "metadata": {},
   "outputs": [
    {
     "data": {
      "text/html": [
       "<div>\n",
       "<style scoped>\n",
       "    .dataframe tbody tr th:only-of-type {\n",
       "        vertical-align: middle;\n",
       "    }\n",
       "\n",
       "    .dataframe tbody tr th {\n",
       "        vertical-align: top;\n",
       "    }\n",
       "\n",
       "    .dataframe thead th {\n",
       "        text-align: right;\n",
       "    }\n",
       "</style>\n",
       "<table border=\"1\" class=\"dataframe\">\n",
       "  <thead>\n",
       "    <tr style=\"text-align: right;\">\n",
       "      <th></th>\n",
       "      <th>x</th>\n",
       "      <th>y</th>\n",
       "      <th>geometry</th>\n",
       "      <th>centroid</th>\n",
       "      <th>lon</th>\n",
       "      <th>lat</th>\n",
       "    </tr>\n",
       "  </thead>\n",
       "  <tbody>\n",
       "    <tr>\n",
       "      <th>0</th>\n",
       "      <td>1</td>\n",
       "      <td>41</td>\n",
       "      <td>POLYGON ((0.99933 40.99950, 0.99933 41.04319, ...</td>\n",
       "      <td>POINT (1.61701 41.09437)</td>\n",
       "      <td>1.617007</td>\n",
       "      <td>41.094369</td>\n",
       "    </tr>\n",
       "    <tr>\n",
       "      <th>1</th>\n",
       "      <td>-11</td>\n",
       "      <td>-72</td>\n",
       "      <td>POLYGON ((-11.00158 -71.04396, -11.00158 -71.0...</td>\n",
       "      <td>POINT (-10.97495 -71.01612)</td>\n",
       "      <td>-10.974950</td>\n",
       "      <td>-71.016119</td>\n",
       "    </tr>\n",
       "    <tr>\n",
       "      <th>2</th>\n",
       "      <td>-11</td>\n",
       "      <td>-72</td>\n",
       "      <td>POLYGON ((-10.81949 -70.99950, -10.75741 -70.9...</td>\n",
       "      <td>POINT (-10.75569 -71.00237)</td>\n",
       "      <td>-10.755689</td>\n",
       "      <td>-71.002365</td>\n",
       "    </tr>\n",
       "    <tr>\n",
       "      <th>3</th>\n",
       "      <td>148</td>\n",
       "      <td>-11</td>\n",
       "      <td>POLYGON ((147.99949 -11.00050, 147.99949 -10.1...</td>\n",
       "      <td>POINT (148.48457 -10.58733)</td>\n",
       "      <td>148.484570</td>\n",
       "      <td>-10.587332</td>\n",
       "    </tr>\n",
       "    <tr>\n",
       "      <th>4</th>\n",
       "      <td>-25</td>\n",
       "      <td>81</td>\n",
       "      <td>POLYGON ((-25.00338 81.58330, -25.00338 81.720...</td>\n",
       "      <td>POINT (-24.42133 81.79519)</td>\n",
       "      <td>-24.421329</td>\n",
       "      <td>81.795188</td>\n",
       "    </tr>\n",
       "  </tbody>\n",
       "</table>\n",
       "</div>"
      ],
      "text/plain": [
       "     x   y                                           geometry  \\\n",
       "0    1  41  POLYGON ((0.99933 40.99950, 0.99933 41.04319, ...   \n",
       "1  -11 -72  POLYGON ((-11.00158 -71.04396, -11.00158 -71.0...   \n",
       "2  -11 -72  POLYGON ((-10.81949 -70.99950, -10.75741 -70.9...   \n",
       "3  148 -11  POLYGON ((147.99949 -11.00050, 147.99949 -10.1...   \n",
       "4  -25  81  POLYGON ((-25.00338 81.58330, -25.00338 81.720...   \n",
       "\n",
       "                      centroid         lon        lat  \n",
       "0     POINT (1.61701 41.09437)    1.617007  41.094369  \n",
       "1  POINT (-10.97495 -71.01612)  -10.974950 -71.016119  \n",
       "2  POINT (-10.75569 -71.00237)  -10.755689 -71.002365  \n",
       "3  POINT (148.48457 -10.58733)  148.484570 -10.587332  \n",
       "4   POINT (-24.42133 81.79519)  -24.421329  81.795188  "
      ]
     },
     "execution_count": 28,
     "metadata": {},
     "output_type": "execute_result"
    }
   ],
   "source": [
    "water.head()"
   ]
  },
  {
   "cell_type": "code",
   "execution_count": 29,
   "metadata": {},
   "outputs": [],
   "source": [
    "w1 = water[water['lat'].ge(df.latitude.min()) & water['lat'].le(df.latitude.max())]"
   ]
  },
  {
   "cell_type": "code",
   "execution_count": 30,
   "metadata": {},
   "outputs": [],
   "source": [
    "w2 = w1[w1['lon'].ge(df.longitude.min()) & w1['lon'].le(df.longitude.max())]"
   ]
  },
  {
   "cell_type": "code",
   "execution_count": 31,
   "metadata": {},
   "outputs": [],
   "source": [
    "water_clean=w2"
   ]
  },
  {
   "cell_type": "code",
   "execution_count": 32,
   "metadata": {
    "scrolled": true
   },
   "outputs": [
    {
     "data": {
      "text/plain": [
       "(12, 6)"
      ]
     },
     "execution_count": 32,
     "metadata": {},
     "output_type": "execute_result"
    }
   ],
   "source": [
    "water_clean.shape"
   ]
  },
  {
   "cell_type": "code",
   "execution_count": 33,
   "metadata": {},
   "outputs": [
    {
     "data": {
      "text/html": [
       "<div>\n",
       "<style scoped>\n",
       "    .dataframe tbody tr th:only-of-type {\n",
       "        vertical-align: middle;\n",
       "    }\n",
       "\n",
       "    .dataframe tbody tr th {\n",
       "        vertical-align: top;\n",
       "    }\n",
       "\n",
       "    .dataframe thead th {\n",
       "        text-align: right;\n",
       "    }\n",
       "</style>\n",
       "<table border=\"1\" class=\"dataframe\">\n",
       "  <thead>\n",
       "    <tr style=\"text-align: right;\">\n",
       "      <th></th>\n",
       "      <th>x</th>\n",
       "      <th>y</th>\n",
       "      <th>geometry</th>\n",
       "      <th>centroid</th>\n",
       "      <th>lon</th>\n",
       "      <th>lat</th>\n",
       "    </tr>\n",
       "  </thead>\n",
       "  <tbody>\n",
       "    <tr>\n",
       "      <th>3509</th>\n",
       "      <td>-123</td>\n",
       "      <td>37</td>\n",
       "      <td>POLYGON ((-123.00063 36.99950, -123.00063 37.6...</td>\n",
       "      <td>POINT (-122.66656 37.46817)</td>\n",
       "      <td>-122.666558</td>\n",
       "      <td>37.468167</td>\n",
       "    </tr>\n",
       "    <tr>\n",
       "      <th>3510</th>\n",
       "      <td>-123</td>\n",
       "      <td>37</td>\n",
       "      <td>POLYGON ((-121.99937 37.48335, -121.99937 37.4...</td>\n",
       "      <td>POINT (-121.99975 37.48213)</td>\n",
       "      <td>-121.999750</td>\n",
       "      <td>37.482129</td>\n",
       "    </tr>\n",
       "    <tr>\n",
       "      <th>5175</th>\n",
       "      <td>-122</td>\n",
       "      <td>37</td>\n",
       "      <td>POLYGON ((-122.00063 37.46652, -122.00063 37.4...</td>\n",
       "      <td>POINT (-121.97486 37.46015)</td>\n",
       "      <td>-121.974856</td>\n",
       "      <td>37.460154</td>\n",
       "    </tr>\n",
       "    <tr>\n",
       "      <th>5176</th>\n",
       "      <td>-122</td>\n",
       "      <td>37</td>\n",
       "      <td>POLYGON ((-122.00063 37.47850, -122.00063 37.4...</td>\n",
       "      <td>POINT (-121.99743 37.48085)</td>\n",
       "      <td>-121.997432</td>\n",
       "      <td>37.480849</td>\n",
       "    </tr>\n",
       "    <tr>\n",
       "      <th>8313</th>\n",
       "      <td>-124</td>\n",
       "      <td>38</td>\n",
       "      <td>POLYGON ((-124.00064 37.99950, -124.00064 39.0...</td>\n",
       "      <td>POINT (-123.59113 38.39751)</td>\n",
       "      <td>-123.591133</td>\n",
       "      <td>38.397513</td>\n",
       "    </tr>\n",
       "  </tbody>\n",
       "</table>\n",
       "</div>"
      ],
      "text/plain": [
       "        x   y                                           geometry  \\\n",
       "3509 -123  37  POLYGON ((-123.00063 36.99950, -123.00063 37.6...   \n",
       "3510 -123  37  POLYGON ((-121.99937 37.48335, -121.99937 37.4...   \n",
       "5175 -122  37  POLYGON ((-122.00063 37.46652, -122.00063 37.4...   \n",
       "5176 -122  37  POLYGON ((-122.00063 37.47850, -122.00063 37.4...   \n",
       "8313 -124  38  POLYGON ((-124.00064 37.99950, -124.00064 39.0...   \n",
       "\n",
       "                         centroid         lon        lat  \n",
       "3509  POINT (-122.66656 37.46817) -122.666558  37.468167  \n",
       "3510  POINT (-121.99975 37.48213) -121.999750  37.482129  \n",
       "5175  POINT (-121.97486 37.46015) -121.974856  37.460154  \n",
       "5176  POINT (-121.99743 37.48085) -121.997432  37.480849  \n",
       "8313  POINT (-123.59113 38.39751) -123.591133  38.397513  "
      ]
     },
     "execution_count": 33,
     "metadata": {},
     "output_type": "execute_result"
    }
   ],
   "source": [
    "water_clean.head()"
   ]
  },
  {
   "cell_type": "code",
   "execution_count": 34,
   "metadata": {},
   "outputs": [],
   "source": [
    "# drop centroid\n",
    "water_clean_2 = water_clean.drop(['centroid'], axis=1)"
   ]
  },
  {
   "cell_type": "code",
   "execution_count": 35,
   "metadata": {},
   "outputs": [
    {
     "data": {
      "text/html": [
       "<div>\n",
       "<style scoped>\n",
       "    .dataframe tbody tr th:only-of-type {\n",
       "        vertical-align: middle;\n",
       "    }\n",
       "\n",
       "    .dataframe tbody tr th {\n",
       "        vertical-align: top;\n",
       "    }\n",
       "\n",
       "    .dataframe thead th {\n",
       "        text-align: right;\n",
       "    }\n",
       "</style>\n",
       "<table border=\"1\" class=\"dataframe\">\n",
       "  <thead>\n",
       "    <tr style=\"text-align: right;\">\n",
       "      <th></th>\n",
       "      <th>x</th>\n",
       "      <th>y</th>\n",
       "      <th>geometry</th>\n",
       "      <th>lon</th>\n",
       "      <th>lat</th>\n",
       "    </tr>\n",
       "  </thead>\n",
       "  <tbody>\n",
       "    <tr>\n",
       "      <th>3509</th>\n",
       "      <td>-123</td>\n",
       "      <td>37</td>\n",
       "      <td>POLYGON ((-123.00063 36.99950, -123.00063 37.6...</td>\n",
       "      <td>-122.666558</td>\n",
       "      <td>37.468167</td>\n",
       "    </tr>\n",
       "    <tr>\n",
       "      <th>3510</th>\n",
       "      <td>-123</td>\n",
       "      <td>37</td>\n",
       "      <td>POLYGON ((-121.99937 37.48335, -121.99937 37.4...</td>\n",
       "      <td>-121.999750</td>\n",
       "      <td>37.482129</td>\n",
       "    </tr>\n",
       "    <tr>\n",
       "      <th>5175</th>\n",
       "      <td>-122</td>\n",
       "      <td>37</td>\n",
       "      <td>POLYGON ((-122.00063 37.46652, -122.00063 37.4...</td>\n",
       "      <td>-121.974856</td>\n",
       "      <td>37.460154</td>\n",
       "    </tr>\n",
       "    <tr>\n",
       "      <th>5176</th>\n",
       "      <td>-122</td>\n",
       "      <td>37</td>\n",
       "      <td>POLYGON ((-122.00063 37.47850, -122.00063 37.4...</td>\n",
       "      <td>-121.997432</td>\n",
       "      <td>37.480849</td>\n",
       "    </tr>\n",
       "    <tr>\n",
       "      <th>8313</th>\n",
       "      <td>-124</td>\n",
       "      <td>38</td>\n",
       "      <td>POLYGON ((-124.00064 37.99950, -124.00064 39.0...</td>\n",
       "      <td>-123.591133</td>\n",
       "      <td>38.397513</td>\n",
       "    </tr>\n",
       "    <tr>\n",
       "      <th>9163</th>\n",
       "      <td>-124</td>\n",
       "      <td>37</td>\n",
       "      <td>POLYGON ((-124.00063 36.99950, -124.00063 38.0...</td>\n",
       "      <td>-123.500088</td>\n",
       "      <td>37.499924</td>\n",
       "    </tr>\n",
       "    <tr>\n",
       "      <th>10598</th>\n",
       "      <td>-122</td>\n",
       "      <td>38</td>\n",
       "      <td>POLYGON ((-122.00064 38.05396, -122.00064 38.0...</td>\n",
       "      <td>-121.841645</td>\n",
       "      <td>38.052843</td>\n",
       "    </tr>\n",
       "    <tr>\n",
       "      <th>10599</th>\n",
       "      <td>-122</td>\n",
       "      <td>38</td>\n",
       "      <td>POLYGON ((-122.00064 38.10270, -122.00064 38.1...</td>\n",
       "      <td>-121.994687</td>\n",
       "      <td>38.118976</td>\n",
       "    </tr>\n",
       "    <tr>\n",
       "      <th>12251</th>\n",
       "      <td>-123</td>\n",
       "      <td>38</td>\n",
       "      <td>POLYGON ((-123.00064 38.02520, -123.00064 38.2...</td>\n",
       "      <td>-122.961141</td>\n",
       "      <td>38.161426</td>\n",
       "    </tr>\n",
       "    <tr>\n",
       "      <th>12252</th>\n",
       "      <td>-123</td>\n",
       "      <td>38</td>\n",
       "      <td>POLYGON ((-123.00064 38.29697, -123.00064 38.2...</td>\n",
       "      <td>-122.979821</td>\n",
       "      <td>38.309495</td>\n",
       "    </tr>\n",
       "    <tr>\n",
       "      <th>12253</th>\n",
       "      <td>-123</td>\n",
       "      <td>38</td>\n",
       "      <td>POLYGON ((-121.99936 38.13678, -121.99936 38.1...</td>\n",
       "      <td>-122.305379</td>\n",
       "      <td>38.067341</td>\n",
       "    </tr>\n",
       "    <tr>\n",
       "      <th>12254</th>\n",
       "      <td>-123</td>\n",
       "      <td>38</td>\n",
       "      <td>POLYGON ((-122.82768 37.99950, -122.98315 37.9...</td>\n",
       "      <td>-122.918255</td>\n",
       "      <td>38.021265</td>\n",
       "    </tr>\n",
       "  </tbody>\n",
       "</table>\n",
       "</div>"
      ],
      "text/plain": [
       "         x   y                                           geometry         lon  \\\n",
       "3509  -123  37  POLYGON ((-123.00063 36.99950, -123.00063 37.6... -122.666558   \n",
       "3510  -123  37  POLYGON ((-121.99937 37.48335, -121.99937 37.4... -121.999750   \n",
       "5175  -122  37  POLYGON ((-122.00063 37.46652, -122.00063 37.4... -121.974856   \n",
       "5176  -122  37  POLYGON ((-122.00063 37.47850, -122.00063 37.4... -121.997432   \n",
       "8313  -124  38  POLYGON ((-124.00064 37.99950, -124.00064 39.0... -123.591133   \n",
       "9163  -124  37  POLYGON ((-124.00063 36.99950, -124.00063 38.0... -123.500088   \n",
       "10598 -122  38  POLYGON ((-122.00064 38.05396, -122.00064 38.0... -121.841645   \n",
       "10599 -122  38  POLYGON ((-122.00064 38.10270, -122.00064 38.1... -121.994687   \n",
       "12251 -123  38  POLYGON ((-123.00064 38.02520, -123.00064 38.2... -122.961141   \n",
       "12252 -123  38  POLYGON ((-123.00064 38.29697, -123.00064 38.2... -122.979821   \n",
       "12253 -123  38  POLYGON ((-121.99936 38.13678, -121.99936 38.1... -122.305379   \n",
       "12254 -123  38  POLYGON ((-122.82768 37.99950, -122.98315 37.9... -122.918255   \n",
       "\n",
       "             lat  \n",
       "3509   37.468167  \n",
       "3510   37.482129  \n",
       "5175   37.460154  \n",
       "5176   37.480849  \n",
       "8313   38.397513  \n",
       "9163   37.499924  \n",
       "10598  38.052843  \n",
       "10599  38.118976  \n",
       "12251  38.161426  \n",
       "12252  38.309495  \n",
       "12253  38.067341  \n",
       "12254  38.021265  "
      ]
     },
     "execution_count": 35,
     "metadata": {},
     "output_type": "execute_result"
    }
   ],
   "source": [
    "water_clean_2"
   ]
  },
  {
   "cell_type": "code",
   "execution_count": 36,
   "metadata": {},
   "outputs": [],
   "source": [
    "#http://download.geofabrik.de/north-america/us/california/norcal.html\n",
    "water_cont=gpd.read_file('../data/norcal-latest-free/gis_osm_water_a_free_1.shp')"
   ]
  },
  {
   "cell_type": "code",
   "execution_count": 37,
   "metadata": {},
   "outputs": [
    {
     "data": {
      "text/plain": [
       "(59994, 5)"
      ]
     },
     "execution_count": 37,
     "metadata": {},
     "output_type": "execute_result"
    }
   ],
   "source": [
    "water_cont.shape"
   ]
  },
  {
   "cell_type": "code",
   "execution_count": 38,
   "metadata": {},
   "outputs": [
    {
     "name": "stderr",
     "output_type": "stream",
     "text": [
      "C:\\Users\\acmar\\miniconda3\\envs\\cs\\lib\\site-packages\\ipykernel_launcher.py:1: UserWarning: Geometry is in a geographic CRS. Results from 'centroid' are likely incorrect. Use 'GeoSeries.to_crs()' to re-project geometries to a projected CRS before this operation.\n",
      "\n",
      "  \"\"\"Entry point for launching an IPython kernel.\n",
      "C:\\Users\\acmar\\miniconda3\\envs\\cs\\lib\\site-packages\\ipykernel_launcher.py:2: UserWarning: Geometry is in a geographic CRS. Results from 'centroid' are likely incorrect. Use 'GeoSeries.to_crs()' to re-project geometries to a projected CRS before this operation.\n",
      "\n",
      "  \n"
     ]
    }
   ],
   "source": [
    "water_cont['centroid'] = water_cont['geometry'].centroid\n",
    "water_cont['lon'], water_cont['lat'] = [list(t) for t in zip(*map(getXY, water_cont.centroid))]"
   ]
  },
  {
   "cell_type": "code",
   "execution_count": 39,
   "metadata": {},
   "outputs": [],
   "source": [
    "wc1 = water_cont[water_cont['lat'].ge(df.latitude.min()) & water_cont['lat'].le(df.latitude.max())]"
   ]
  },
  {
   "cell_type": "code",
   "execution_count": 40,
   "metadata": {},
   "outputs": [],
   "source": [
    "wc2 = wc1[wc1['lon'].ge(df.longitude.min()) & wc1['lon'].le(df.longitude.max())]"
   ]
  },
  {
   "cell_type": "code",
   "execution_count": 41,
   "metadata": {},
   "outputs": [],
   "source": [
    "water_cont_clean=wc2"
   ]
  },
  {
   "cell_type": "code",
   "execution_count": 42,
   "metadata": {},
   "outputs": [
    {
     "data": {
      "text/plain": [
       "((59994, 8), (10380, 8))"
      ]
     },
     "execution_count": 42,
     "metadata": {},
     "output_type": "execute_result"
    }
   ],
   "source": [
    "water_cont.shape, water_cont_clean.shape"
   ]
  },
  {
   "cell_type": "code",
   "execution_count": 43,
   "metadata": {},
   "outputs": [
    {
     "data": {
      "text/html": [
       "<div>\n",
       "<style scoped>\n",
       "    .dataframe tbody tr th:only-of-type {\n",
       "        vertical-align: middle;\n",
       "    }\n",
       "\n",
       "    .dataframe tbody tr th {\n",
       "        vertical-align: top;\n",
       "    }\n",
       "\n",
       "    .dataframe thead th {\n",
       "        text-align: right;\n",
       "    }\n",
       "</style>\n",
       "<table border=\"1\" class=\"dataframe\">\n",
       "  <thead>\n",
       "    <tr style=\"text-align: right;\">\n",
       "      <th></th>\n",
       "      <th>osm_id</th>\n",
       "      <th>code</th>\n",
       "      <th>fclass</th>\n",
       "      <th>name</th>\n",
       "      <th>geometry</th>\n",
       "      <th>centroid</th>\n",
       "      <th>lon</th>\n",
       "      <th>lat</th>\n",
       "    </tr>\n",
       "  </thead>\n",
       "  <tbody>\n",
       "    <tr>\n",
       "      <th>0</th>\n",
       "      <td>4896447</td>\n",
       "      <td>8202</td>\n",
       "      <td>riverbank</td>\n",
       "      <td>None</td>\n",
       "      <td>POLYGON ((-122.70267 38.24746, -122.70247 38.2...</td>\n",
       "      <td>POINT (-122.63831 38.24693)</td>\n",
       "      <td>-122.638309</td>\n",
       "      <td>38.246929</td>\n",
       "    </tr>\n",
       "    <tr>\n",
       "      <th>1</th>\n",
       "      <td>4896517</td>\n",
       "      <td>8202</td>\n",
       "      <td>riverbank</td>\n",
       "      <td>None</td>\n",
       "      <td>POLYGON ((-122.57006 38.19333, -122.56941 38.1...</td>\n",
       "      <td>POINT (-122.55826 38.19165)</td>\n",
       "      <td>-122.558258</td>\n",
       "      <td>38.191645</td>\n",
       "    </tr>\n",
       "    <tr>\n",
       "      <th>2</th>\n",
       "      <td>4896562</td>\n",
       "      <td>8200</td>\n",
       "      <td>water</td>\n",
       "      <td>None</td>\n",
       "      <td>POLYGON ((-122.24904 37.72559, -122.24875 37.7...</td>\n",
       "      <td>POINT (-122.24667 37.72587)</td>\n",
       "      <td>-122.246675</td>\n",
       "      <td>37.725873</td>\n",
       "    </tr>\n",
       "    <tr>\n",
       "      <th>3</th>\n",
       "      <td>4896904</td>\n",
       "      <td>8202</td>\n",
       "      <td>riverbank</td>\n",
       "      <td>None</td>\n",
       "      <td>POLYGON ((-122.57010 38.17702, -122.56991 38.1...</td>\n",
       "      <td>POINT (-122.55849 38.16819)</td>\n",
       "      <td>-122.558491</td>\n",
       "      <td>38.168191</td>\n",
       "    </tr>\n",
       "    <tr>\n",
       "      <th>4</th>\n",
       "      <td>4896933</td>\n",
       "      <td>8200</td>\n",
       "      <td>water</td>\n",
       "      <td>None</td>\n",
       "      <td>POLYGON ((-122.01848 38.22699, -122.01840 38.2...</td>\n",
       "      <td>POINT (-122.01667 38.22713)</td>\n",
       "      <td>-122.016672</td>\n",
       "      <td>38.227131</td>\n",
       "    </tr>\n",
       "  </tbody>\n",
       "</table>\n",
       "</div>"
      ],
      "text/plain": [
       "    osm_id  code     fclass  name  \\\n",
       "0  4896447  8202  riverbank  None   \n",
       "1  4896517  8202  riverbank  None   \n",
       "2  4896562  8200      water  None   \n",
       "3  4896904  8202  riverbank  None   \n",
       "4  4896933  8200      water  None   \n",
       "\n",
       "                                            geometry  \\\n",
       "0  POLYGON ((-122.70267 38.24746, -122.70247 38.2...   \n",
       "1  POLYGON ((-122.57006 38.19333, -122.56941 38.1...   \n",
       "2  POLYGON ((-122.24904 37.72559, -122.24875 37.7...   \n",
       "3  POLYGON ((-122.57010 38.17702, -122.56991 38.1...   \n",
       "4  POLYGON ((-122.01848 38.22699, -122.01840 38.2...   \n",
       "\n",
       "                      centroid         lon        lat  \n",
       "0  POINT (-122.63831 38.24693) -122.638309  38.246929  \n",
       "1  POINT (-122.55826 38.19165) -122.558258  38.191645  \n",
       "2  POINT (-122.24667 37.72587) -122.246675  37.725873  \n",
       "3  POINT (-122.55849 38.16819) -122.558491  38.168191  \n",
       "4  POINT (-122.01667 38.22713) -122.016672  38.227131  "
      ]
     },
     "execution_count": 43,
     "metadata": {},
     "output_type": "execute_result"
    }
   ],
   "source": [
    "water_cont_clean.head()"
   ]
  },
  {
   "cell_type": "code",
   "execution_count": 44,
   "metadata": {},
   "outputs": [],
   "source": [
    "water_cont_clean_2=water_cont_clean.drop(['centroid'], axis=1)"
   ]
  },
  {
   "cell_type": "code",
   "execution_count": 45,
   "metadata": {},
   "outputs": [],
   "source": [
    "green_clean_difference=gpd.overlay(green_clean, water_clean_2, how='difference')"
   ]
  },
  {
   "cell_type": "code",
   "execution_count": 46,
   "metadata": {},
   "outputs": [
    {
     "data": {
      "text/plain": [
       "((34910, 7), (34903, 7))"
      ]
     },
     "execution_count": 46,
     "metadata": {},
     "output_type": "execute_result"
    }
   ],
   "source": [
    "green_clean.shape, green_clean_difference.shape"
   ]
  },
  {
   "cell_type": "code",
   "execution_count": 47,
   "metadata": {},
   "outputs": [],
   "source": [
    "green_clean_difference_2=gpd.overlay(green_clean_difference, water_cont_clean_2, how='difference')"
   ]
  },
  {
   "cell_type": "code",
   "execution_count": 48,
   "metadata": {},
   "outputs": [],
   "source": [
    "green=green_clean_difference_2"
   ]
  },
  {
   "cell_type": "code",
   "execution_count": 49,
   "metadata": {},
   "outputs": [],
   "source": [
    "geom = green.geometry.unary_union"
   ]
  },
  {
   "cell_type": "code",
   "execution_count": 50,
   "metadata": {},
   "outputs": [],
   "source": [
    "green_unique = gpd.GeoDataFrame(geometry=[geom],crs='epsg:4326')"
   ]
  },
  {
   "cell_type": "code",
   "execution_count": 51,
   "metadata": {},
   "outputs": [
    {
     "data": {
      "text/html": [
       "<div>\n",
       "<style scoped>\n",
       "    .dataframe tbody tr th:only-of-type {\n",
       "        vertical-align: middle;\n",
       "    }\n",
       "\n",
       "    .dataframe tbody tr th {\n",
       "        vertical-align: top;\n",
       "    }\n",
       "\n",
       "    .dataframe thead th {\n",
       "        text-align: right;\n",
       "    }\n",
       "</style>\n",
       "<table border=\"1\" class=\"dataframe\">\n",
       "  <thead>\n",
       "    <tr style=\"text-align: right;\">\n",
       "      <th></th>\n",
       "      <th>geometry</th>\n",
       "    </tr>\n",
       "  </thead>\n",
       "  <tbody>\n",
       "    <tr>\n",
       "      <th>0</th>\n",
       "      <td>MULTIPOLYGON (((-122.10455 36.96578, -122.1044...</td>\n",
       "    </tr>\n",
       "  </tbody>\n",
       "</table>\n",
       "</div>"
      ],
      "text/plain": [
       "                                            geometry\n",
       "0  MULTIPOLYGON (((-122.10455 36.96578, -122.1044..."
      ]
     },
     "execution_count": 51,
     "metadata": {},
     "output_type": "execute_result"
    }
   ],
   "source": [
    "green_unique.head()"
   ]
  },
  {
   "cell_type": "code",
   "execution_count": 52,
   "metadata": {
    "scrolled": false
   },
   "outputs": [
    {
     "data": {
      "text/plain": [
       "<Geographic 2D CRS: EPSG:4326>\n",
       "Name: WGS 84\n",
       "Axis Info [ellipsoidal]:\n",
       "- Lat[north]: Geodetic latitude (degree)\n",
       "- Lon[east]: Geodetic longitude (degree)\n",
       "Area of Use:\n",
       "- name: World\n",
       "- bounds: (-180.0, -90.0, 180.0, 90.0)\n",
       "Datum: World Geodetic System 1984\n",
       "- Ellipsoid: WGS 84\n",
       "- Prime Meridian: Greenwich"
      ]
     },
     "execution_count": 52,
     "metadata": {},
     "output_type": "execute_result"
    }
   ],
   "source": [
    "green_unique.crs"
   ]
  },
  {
   "cell_type": "code",
   "execution_count": 53,
   "metadata": {},
   "outputs": [],
   "source": [
    "green_unique = green_unique.explode().reset_index(drop=True)"
   ]
  },
  {
   "cell_type": "code",
   "execution_count": 54,
   "metadata": {},
   "outputs": [
    {
     "data": {
      "text/html": [
       "<div>\n",
       "<style scoped>\n",
       "    .dataframe tbody tr th:only-of-type {\n",
       "        vertical-align: middle;\n",
       "    }\n",
       "\n",
       "    .dataframe tbody tr th {\n",
       "        vertical-align: top;\n",
       "    }\n",
       "\n",
       "    .dataframe thead th {\n",
       "        text-align: right;\n",
       "    }\n",
       "</style>\n",
       "<table border=\"1\" class=\"dataframe\">\n",
       "  <thead>\n",
       "    <tr style=\"text-align: right;\">\n",
       "      <th></th>\n",
       "      <th>geometry</th>\n",
       "    </tr>\n",
       "  </thead>\n",
       "  <tbody>\n",
       "    <tr>\n",
       "      <th>0</th>\n",
       "      <td>POLYGON ((-122.10455 36.96578, -122.10448 36.9...</td>\n",
       "    </tr>\n",
       "    <tr>\n",
       "      <th>1</th>\n",
       "      <td>POLYGON ((-121.96565 37.03789, -121.96560 37.0...</td>\n",
       "    </tr>\n",
       "    <tr>\n",
       "      <th>2</th>\n",
       "      <td>POLYGON ((-122.23961 37.05038, -122.23919 37.0...</td>\n",
       "    </tr>\n",
       "    <tr>\n",
       "      <th>3</th>\n",
       "      <td>POLYGON ((-121.65561 37.04986, -121.65529 37.0...</td>\n",
       "    </tr>\n",
       "    <tr>\n",
       "      <th>4</th>\n",
       "      <td>POLYGON ((-122.26762 37.07843, -122.26760 37.0...</td>\n",
       "    </tr>\n",
       "  </tbody>\n",
       "</table>\n",
       "</div>"
      ],
      "text/plain": [
       "                                            geometry\n",
       "0  POLYGON ((-122.10455 36.96578, -122.10448 36.9...\n",
       "1  POLYGON ((-121.96565 37.03789, -121.96560 37.0...\n",
       "2  POLYGON ((-122.23961 37.05038, -122.23919 37.0...\n",
       "3  POLYGON ((-121.65561 37.04986, -121.65529 37.0...\n",
       "4  POLYGON ((-122.26762 37.07843, -122.26760 37.0..."
      ]
     },
     "execution_count": 54,
     "metadata": {},
     "output_type": "execute_result"
    }
   ],
   "source": [
    "green_unique.head()"
   ]
  },
  {
   "cell_type": "code",
   "execution_count": 55,
   "metadata": {},
   "outputs": [
    {
     "data": {
      "text/plain": [
       "<Geographic 2D CRS: EPSG:4326>\n",
       "Name: WGS 84\n",
       "Axis Info [ellipsoidal]:\n",
       "- Lat[north]: Geodetic latitude (degree)\n",
       "- Lon[east]: Geodetic longitude (degree)\n",
       "Area of Use:\n",
       "- name: World\n",
       "- bounds: (-180.0, -90.0, 180.0, 90.0)\n",
       "Datum: World Geodetic System 1984\n",
       "- Ellipsoid: WGS 84\n",
       "- Prime Meridian: Greenwich"
      ]
     },
     "execution_count": 55,
     "metadata": {},
     "output_type": "execute_result"
    }
   ],
   "source": [
    "green_unique.crs"
   ]
  },
  {
   "cell_type": "code",
   "execution_count": 56,
   "metadata": {
    "scrolled": false
   },
   "outputs": [
    {
     "data": {
      "text/plain": [
       "(23264, 1)"
      ]
     },
     "execution_count": 56,
     "metadata": {},
     "output_type": "execute_result"
    }
   ],
   "source": [
    "green_unique.shape"
   ]
  },
  {
   "cell_type": "code",
   "execution_count": 57,
   "metadata": {},
   "outputs": [],
   "source": [
    "geom = water_cont_clean_2.geometry.unary_union"
   ]
  },
  {
   "cell_type": "code",
   "execution_count": 58,
   "metadata": {},
   "outputs": [],
   "source": [
    "water_cont_clean_2_unique = gpd.GeoDataFrame(geometry=[geom],crs='epsg:4326')"
   ]
  },
  {
   "cell_type": "code",
   "execution_count": 59,
   "metadata": {},
   "outputs": [
    {
     "data": {
      "text/html": [
       "<div>\n",
       "<style scoped>\n",
       "    .dataframe tbody tr th:only-of-type {\n",
       "        vertical-align: middle;\n",
       "    }\n",
       "\n",
       "    .dataframe tbody tr th {\n",
       "        vertical-align: top;\n",
       "    }\n",
       "\n",
       "    .dataframe thead th {\n",
       "        text-align: right;\n",
       "    }\n",
       "</style>\n",
       "<table border=\"1\" class=\"dataframe\">\n",
       "  <thead>\n",
       "    <tr style=\"text-align: right;\">\n",
       "      <th></th>\n",
       "      <th>geometry</th>\n",
       "    </tr>\n",
       "  </thead>\n",
       "  <tbody>\n",
       "    <tr>\n",
       "      <th>0</th>\n",
       "      <td>MULTIPOLYGON (((-122.24481 37.74894, -122.2445...</td>\n",
       "    </tr>\n",
       "  </tbody>\n",
       "</table>\n",
       "</div>"
      ],
      "text/plain": [
       "                                            geometry\n",
       "0  MULTIPOLYGON (((-122.24481 37.74894, -122.2445..."
      ]
     },
     "execution_count": 59,
     "metadata": {},
     "output_type": "execute_result"
    }
   ],
   "source": [
    "water_cont_clean_2_unique.head()"
   ]
  },
  {
   "cell_type": "code",
   "execution_count": 60,
   "metadata": {
    "scrolled": false
   },
   "outputs": [
    {
     "data": {
      "text/plain": [
       "<Geographic 2D CRS: EPSG:4326>\n",
       "Name: WGS 84\n",
       "Axis Info [ellipsoidal]:\n",
       "- Lat[north]: Geodetic latitude (degree)\n",
       "- Lon[east]: Geodetic longitude (degree)\n",
       "Area of Use:\n",
       "- name: World\n",
       "- bounds: (-180.0, -90.0, 180.0, 90.0)\n",
       "Datum: World Geodetic System 1984\n",
       "- Ellipsoid: WGS 84\n",
       "- Prime Meridian: Greenwich"
      ]
     },
     "execution_count": 60,
     "metadata": {},
     "output_type": "execute_result"
    }
   ],
   "source": [
    "water_cont_clean_2_unique.crs"
   ]
  },
  {
   "cell_type": "code",
   "execution_count": 61,
   "metadata": {},
   "outputs": [],
   "source": [
    "water_cont_clean_2_unique = water_cont_clean_2_unique.explode().reset_index(drop=True)"
   ]
  },
  {
   "cell_type": "code",
   "execution_count": 62,
   "metadata": {},
   "outputs": [
    {
     "data": {
      "text/html": [
       "<div>\n",
       "<style scoped>\n",
       "    .dataframe tbody tr th:only-of-type {\n",
       "        vertical-align: middle;\n",
       "    }\n",
       "\n",
       "    .dataframe tbody tr th {\n",
       "        vertical-align: top;\n",
       "    }\n",
       "\n",
       "    .dataframe thead th {\n",
       "        text-align: right;\n",
       "    }\n",
       "</style>\n",
       "<table border=\"1\" class=\"dataframe\">\n",
       "  <thead>\n",
       "    <tr style=\"text-align: right;\">\n",
       "      <th></th>\n",
       "      <th>geometry</th>\n",
       "    </tr>\n",
       "  </thead>\n",
       "  <tbody>\n",
       "    <tr>\n",
       "      <th>0</th>\n",
       "      <td>POLYGON ((-122.24481 37.74894, -122.24459 37.7...</td>\n",
       "    </tr>\n",
       "    <tr>\n",
       "      <th>1</th>\n",
       "      <td>POLYGON ((-122.20873 37.92157, -122.20865 37.9...</td>\n",
       "    </tr>\n",
       "    <tr>\n",
       "      <th>2</th>\n",
       "      <td>POLYGON ((-122.50616 37.92150, -122.50636 37.9...</td>\n",
       "    </tr>\n",
       "    <tr>\n",
       "      <th>3</th>\n",
       "      <td>POLYGON ((-122.26433 38.09357, -122.26374 38.0...</td>\n",
       "    </tr>\n",
       "    <tr>\n",
       "      <th>4</th>\n",
       "      <td>POLYGON ((-121.47137 36.99846, -121.47137 36.9...</td>\n",
       "    </tr>\n",
       "  </tbody>\n",
       "</table>\n",
       "</div>"
      ],
      "text/plain": [
       "                                            geometry\n",
       "0  POLYGON ((-122.24481 37.74894, -122.24459 37.7...\n",
       "1  POLYGON ((-122.20873 37.92157, -122.20865 37.9...\n",
       "2  POLYGON ((-122.50616 37.92150, -122.50636 37.9...\n",
       "3  POLYGON ((-122.26433 38.09357, -122.26374 38.0...\n",
       "4  POLYGON ((-121.47137 36.99846, -121.47137 36.9..."
      ]
     },
     "execution_count": 62,
     "metadata": {},
     "output_type": "execute_result"
    }
   ],
   "source": [
    "water_cont_clean_2_unique.head()"
   ]
  },
  {
   "cell_type": "code",
   "execution_count": 63,
   "metadata": {},
   "outputs": [
    {
     "data": {
      "text/plain": [
       "<Geographic 2D CRS: EPSG:4326>\n",
       "Name: WGS 84\n",
       "Axis Info [ellipsoidal]:\n",
       "- Lat[north]: Geodetic latitude (degree)\n",
       "- Lon[east]: Geodetic longitude (degree)\n",
       "Area of Use:\n",
       "- name: World\n",
       "- bounds: (-180.0, -90.0, 180.0, 90.0)\n",
       "Datum: World Geodetic System 1984\n",
       "- Ellipsoid: WGS 84\n",
       "- Prime Meridian: Greenwich"
      ]
     },
     "execution_count": 63,
     "metadata": {},
     "output_type": "execute_result"
    }
   ],
   "source": [
    "water_cont_clean_2_unique.crs"
   ]
  },
  {
   "cell_type": "code",
   "execution_count": 64,
   "metadata": {
    "scrolled": true
   },
   "outputs": [
    {
     "data": {
      "text/plain": [
       "(8091, 1)"
      ]
     },
     "execution_count": 64,
     "metadata": {},
     "output_type": "execute_result"
    }
   ],
   "source": [
    "water_cont_clean_2_unique.shape"
   ]
  },
  {
   "cell_type": "code",
   "execution_count": 66,
   "metadata": {},
   "outputs": [],
   "source": [
    "green_unique.to_file('../data/outputs/greenspaces_sf_final.shp')\n",
    "water_cont_clean_2_unique.to_file('../data/outputs/bluespaces_sf_final.shp')\n",
    "water_clean_2.to_file('../data/outputs/ocean_sf_final.shp')"
   ]
  }
 ],
 "metadata": {
  "kernelspec": {
   "display_name": "Python 3",
   "language": "python",
   "name": "python3"
  },
  "language_info": {
   "codemirror_mode": {
    "name": "ipython",
    "version": 3
   },
   "file_extension": ".py",
   "mimetype": "text/x-python",
   "name": "python",
   "nbconvert_exporter": "python",
   "pygments_lexer": "ipython3",
   "version": "3.7.8"
  }
 },
 "nbformat": 4,
 "nbformat_minor": 4
}
