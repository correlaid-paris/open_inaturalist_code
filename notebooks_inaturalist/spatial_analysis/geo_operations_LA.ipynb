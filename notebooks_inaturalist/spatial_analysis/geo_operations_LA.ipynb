{
 "cells": [
  {
   "cell_type": "markdown",
   "metadata": {},
   "source": [
    "## Steps\n",
    "\n",
    "#### Load observations, greenspaces, ocean and continetal waters\n",
    "#### Exclude the greenspaces within ocean and continental waters (key: nature_reserve)\n",
    "#### Exclude overlapping geometries \n",
    "#### Export files as .shp"
   ]
  },
  {
   "cell_type": "code",
   "execution_count": 1,
   "metadata": {},
   "outputs": [],
   "source": [
    "#import libraries\n",
    "import pandas as pd \n",
    "import numpy as np\n",
    "from glob2 import glob\n",
    "import geopandas as gpd \n",
    "import osmnx as ox"
   ]
  },
  {
   "cell_type": "code",
   "execution_count": 2,
   "metadata": {},
   "outputs": [],
   "source": [
    "#get California as gdf to check anomalies. Points outside California will be excluded\n",
    "ca=ox.geocode_to_gdf('California')"
   ]
  },
  {
   "cell_type": "code",
   "execution_count": 3,
   "metadata": {},
   "outputs": [],
   "source": [
    "#load observations\n",
    "data_folder = '../data/observations_final'\n",
    "df = pd.concat([pd.read_csv(f).assign(challenge=f.replace('.csv','')) for f in glob(data_folder+'/CNC_Los_Angeles_*.csv')])"
   ]
  },
  {
   "cell_type": "code",
   "execution_count": 4,
   "metadata": {},
   "outputs": [
    {
     "data": {
      "text/plain": [
       "(91694, 39)"
      ]
     },
     "execution_count": 4,
     "metadata": {},
     "output_type": "execute_result"
    }
   ],
   "source": [
    "df.shape"
   ]
  },
  {
   "cell_type": "code",
   "execution_count": 5,
   "metadata": {},
   "outputs": [],
   "source": [
    "#exclude anomalies\n",
    "df=df[df['latitude'].le(ca['bbox_north'].iloc[0]) \\\n",
    "                  & df['latitude'].ge(ca['bbox_south'].iloc[0]) \\\n",
    "                  & df['longitude'].le(ca['bbox_east'].iloc[0]) \\\n",
    "                  & df['longitude'].ge(ca['bbox_west'].iloc[0])]"
   ]
  },
  {
   "cell_type": "code",
   "execution_count": 6,
   "metadata": {},
   "outputs": [],
   "source": [
    "#create year \n",
    "df['year']=df['time_observed_at'].str[0:4].astype('int64')"
   ]
  },
  {
   "cell_type": "code",
   "execution_count": 7,
   "metadata": {},
   "outputs": [
    {
     "data": {
      "text/plain": [
       "(91693, 40)"
      ]
     },
     "execution_count": 7,
     "metadata": {},
     "output_type": "execute_result"
    }
   ],
   "source": [
    "df.shape"
   ]
  },
  {
   "cell_type": "code",
   "execution_count": 8,
   "metadata": {},
   "outputs": [],
   "source": [
    "#load greenspaces\n",
    "#http://download.geofabrik.de/north-america/us/california/socal.html\n",
    "landuse=gpd.read_file('../data/socal-latest-free/gis_osm_landuse_a_free_1.shp')"
   ]
  },
  {
   "cell_type": "code",
   "execution_count": 9,
   "metadata": {},
   "outputs": [
    {
     "data": {
      "text/plain": [
       "(95166, 5)"
      ]
     },
     "execution_count": 9,
     "metadata": {},
     "output_type": "execute_result"
    }
   ],
   "source": [
    "landuse.shape"
   ]
  },
  {
   "cell_type": "code",
   "execution_count": 10,
   "metadata": {},
   "outputs": [
    {
     "data": {
      "text/html": [
       "<div>\n",
       "<style scoped>\n",
       "    .dataframe tbody tr th:only-of-type {\n",
       "        vertical-align: middle;\n",
       "    }\n",
       "\n",
       "    .dataframe tbody tr th {\n",
       "        vertical-align: top;\n",
       "    }\n",
       "\n",
       "    .dataframe thead th {\n",
       "        text-align: right;\n",
       "    }\n",
       "</style>\n",
       "<table border=\"1\" class=\"dataframe\">\n",
       "  <thead>\n",
       "    <tr style=\"text-align: right;\">\n",
       "      <th></th>\n",
       "      <th>osm_id</th>\n",
       "      <th>code</th>\n",
       "      <th>fclass</th>\n",
       "      <th>name</th>\n",
       "      <th>geometry</th>\n",
       "    </tr>\n",
       "  </thead>\n",
       "  <tbody>\n",
       "    <tr>\n",
       "      <th>0</th>\n",
       "      <td>4263495</td>\n",
       "      <td>7202</td>\n",
       "      <td>park</td>\n",
       "      <td>Richard Alatorre Park</td>\n",
       "      <td>POLYGON ((-118.18487 34.14372, -118.18482 34.1...</td>\n",
       "    </tr>\n",
       "    <tr>\n",
       "      <th>1</th>\n",
       "      <td>4354434</td>\n",
       "      <td>7202</td>\n",
       "      <td>park</td>\n",
       "      <td>San Pascual Park</td>\n",
       "      <td>POLYGON ((-118.17015 34.11971, -118.16885 34.1...</td>\n",
       "    </tr>\n",
       "    <tr>\n",
       "      <th>2</th>\n",
       "      <td>4384742</td>\n",
       "      <td>7202</td>\n",
       "      <td>park</td>\n",
       "      <td>Elysian Park</td>\n",
       "      <td>POLYGON ((-118.25161 34.08026, -118.25022 34.0...</td>\n",
       "    </tr>\n",
       "    <tr>\n",
       "      <th>3</th>\n",
       "      <td>4584647</td>\n",
       "      <td>7202</td>\n",
       "      <td>park</td>\n",
       "      <td>Crystal Street Bike Park</td>\n",
       "      <td>POLYGON ((-118.25603 34.10741, -118.25574 34.1...</td>\n",
       "    </tr>\n",
       "    <tr>\n",
       "      <th>4</th>\n",
       "      <td>5988648</td>\n",
       "      <td>7204</td>\n",
       "      <td>industrial</td>\n",
       "      <td>None</td>\n",
       "      <td>POLYGON ((-117.09100 33.11698, -117.09081 33.1...</td>\n",
       "    </tr>\n",
       "  </tbody>\n",
       "</table>\n",
       "</div>"
      ],
      "text/plain": [
       "    osm_id  code      fclass                      name  \\\n",
       "0  4263495  7202        park     Richard Alatorre Park   \n",
       "1  4354434  7202        park          San Pascual Park   \n",
       "2  4384742  7202        park              Elysian Park   \n",
       "3  4584647  7202        park  Crystal Street Bike Park   \n",
       "4  5988648  7204  industrial                      None   \n",
       "\n",
       "                                            geometry  \n",
       "0  POLYGON ((-118.18487 34.14372, -118.18482 34.1...  \n",
       "1  POLYGON ((-118.17015 34.11971, -118.16885 34.1...  \n",
       "2  POLYGON ((-118.25161 34.08026, -118.25022 34.0...  \n",
       "3  POLYGON ((-118.25603 34.10741, -118.25574 34.1...  \n",
       "4  POLYGON ((-117.09100 33.11698, -117.09081 33.1...  "
      ]
     },
     "execution_count": 10,
     "metadata": {},
     "output_type": "execute_result"
    }
   ],
   "source": [
    "landuse.head()"
   ]
  },
  {
   "cell_type": "code",
   "execution_count": 11,
   "metadata": {},
   "outputs": [],
   "source": [
    "#define function to get coordinates using the centroids\n",
    "def getXY(pt):\n",
    "    return (pt.x, pt.y)"
   ]
  },
  {
   "cell_type": "code",
   "execution_count": 12,
   "metadata": {
    "scrolled": true
   },
   "outputs": [
    {
     "name": "stderr",
     "output_type": "stream",
     "text": [
      "C:\\Users\\acmar\\miniconda3\\envs\\cs\\lib\\site-packages\\ipykernel_launcher.py:2: UserWarning: Geometry is in a geographic CRS. Results from 'centroid' are likely incorrect. Use 'GeoSeries.to_crs()' to re-project geometries to a projected CRS before this operation.\n",
      "\n",
      "  \n",
      "C:\\Users\\acmar\\miniconda3\\envs\\cs\\lib\\site-packages\\ipykernel_launcher.py:3: UserWarning: Geometry is in a geographic CRS. Results from 'centroid' are likely incorrect. Use 'GeoSeries.to_crs()' to re-project geometries to a projected CRS before this operation.\n",
      "\n",
      "  This is separate from the ipykernel package so we can avoid doing imports until\n"
     ]
    }
   ],
   "source": [
    "#get coordinates\n",
    "landuse['centroid'] = landuse['geometry'].centroid\n",
    "landuse['lon'], landuse['lat'] = [list(t) for t in zip(*map(getXY, landuse.centroid))]"
   ]
  },
  {
   "cell_type": "code",
   "execution_count": 13,
   "metadata": {},
   "outputs": [
    {
     "data": {
      "text/html": [
       "<div>\n",
       "<style scoped>\n",
       "    .dataframe tbody tr th:only-of-type {\n",
       "        vertical-align: middle;\n",
       "    }\n",
       "\n",
       "    .dataframe tbody tr th {\n",
       "        vertical-align: top;\n",
       "    }\n",
       "\n",
       "    .dataframe thead th {\n",
       "        text-align: right;\n",
       "    }\n",
       "</style>\n",
       "<table border=\"1\" class=\"dataframe\">\n",
       "  <thead>\n",
       "    <tr style=\"text-align: right;\">\n",
       "      <th></th>\n",
       "      <th>osm_id</th>\n",
       "      <th>code</th>\n",
       "      <th>fclass</th>\n",
       "      <th>name</th>\n",
       "      <th>geometry</th>\n",
       "      <th>centroid</th>\n",
       "      <th>lon</th>\n",
       "      <th>lat</th>\n",
       "    </tr>\n",
       "  </thead>\n",
       "  <tbody>\n",
       "    <tr>\n",
       "      <th>0</th>\n",
       "      <td>4263495</td>\n",
       "      <td>7202</td>\n",
       "      <td>park</td>\n",
       "      <td>Richard Alatorre Park</td>\n",
       "      <td>POLYGON ((-118.18487 34.14372, -118.18482 34.1...</td>\n",
       "      <td>POINT (-118.18442 34.14370)</td>\n",
       "      <td>-118.184418</td>\n",
       "      <td>34.143700</td>\n",
       "    </tr>\n",
       "    <tr>\n",
       "      <th>1</th>\n",
       "      <td>4354434</td>\n",
       "      <td>7202</td>\n",
       "      <td>park</td>\n",
       "      <td>San Pascual Park</td>\n",
       "      <td>POLYGON ((-118.17015 34.11971, -118.16885 34.1...</td>\n",
       "      <td>POINT (-118.16865 34.11942)</td>\n",
       "      <td>-118.168649</td>\n",
       "      <td>34.119417</td>\n",
       "    </tr>\n",
       "    <tr>\n",
       "      <th>2</th>\n",
       "      <td>4384742</td>\n",
       "      <td>7202</td>\n",
       "      <td>park</td>\n",
       "      <td>Elysian Park</td>\n",
       "      <td>POLYGON ((-118.25161 34.08026, -118.25022 34.0...</td>\n",
       "      <td>POINT (-118.23881 34.08247)</td>\n",
       "      <td>-118.238808</td>\n",
       "      <td>34.082470</td>\n",
       "    </tr>\n",
       "    <tr>\n",
       "      <th>3</th>\n",
       "      <td>4584647</td>\n",
       "      <td>7202</td>\n",
       "      <td>park</td>\n",
       "      <td>Crystal Street Bike Park</td>\n",
       "      <td>POLYGON ((-118.25603 34.10741, -118.25574 34.1...</td>\n",
       "      <td>POINT (-118.25575 34.10746)</td>\n",
       "      <td>-118.255750</td>\n",
       "      <td>34.107462</td>\n",
       "    </tr>\n",
       "    <tr>\n",
       "      <th>4</th>\n",
       "      <td>5988648</td>\n",
       "      <td>7204</td>\n",
       "      <td>industrial</td>\n",
       "      <td>None</td>\n",
       "      <td>POLYGON ((-117.09100 33.11698, -117.09081 33.1...</td>\n",
       "      <td>POINT (-117.08739 33.11560)</td>\n",
       "      <td>-117.087392</td>\n",
       "      <td>33.115605</td>\n",
       "    </tr>\n",
       "  </tbody>\n",
       "</table>\n",
       "</div>"
      ],
      "text/plain": [
       "    osm_id  code      fclass                      name  \\\n",
       "0  4263495  7202        park     Richard Alatorre Park   \n",
       "1  4354434  7202        park          San Pascual Park   \n",
       "2  4384742  7202        park              Elysian Park   \n",
       "3  4584647  7202        park  Crystal Street Bike Park   \n",
       "4  5988648  7204  industrial                      None   \n",
       "\n",
       "                                            geometry  \\\n",
       "0  POLYGON ((-118.18487 34.14372, -118.18482 34.1...   \n",
       "1  POLYGON ((-118.17015 34.11971, -118.16885 34.1...   \n",
       "2  POLYGON ((-118.25161 34.08026, -118.25022 34.0...   \n",
       "3  POLYGON ((-118.25603 34.10741, -118.25574 34.1...   \n",
       "4  POLYGON ((-117.09100 33.11698, -117.09081 33.1...   \n",
       "\n",
       "                      centroid         lon        lat  \n",
       "0  POINT (-118.18442 34.14370) -118.184418  34.143700  \n",
       "1  POINT (-118.16865 34.11942) -118.168649  34.119417  \n",
       "2  POINT (-118.23881 34.08247) -118.238808  34.082470  \n",
       "3  POINT (-118.25575 34.10746) -118.255750  34.107462  \n",
       "4  POINT (-117.08739 33.11560) -117.087392  33.115605  "
      ]
     },
     "execution_count": 13,
     "metadata": {},
     "output_type": "execute_result"
    }
   ],
   "source": [
    "landuse.head()"
   ]
  },
  {
   "cell_type": "code",
   "execution_count": 14,
   "metadata": {},
   "outputs": [],
   "source": [
    "#limit greenspaces with observations as boundaries (lat)\n",
    "l1 = landuse[landuse['lat'].ge(df.latitude.min()) & landuse['lat'].le(df.latitude.max())]"
   ]
  },
  {
   "cell_type": "code",
   "execution_count": 15,
   "metadata": {},
   "outputs": [],
   "source": [
    "#limit greenspaces with observations as boundaries (lon)\n",
    "l2 = l1[l1['lon'].ge(df.longitude.min()) & l1['lon'].le(df.longitude.max())]"
   ]
  },
  {
   "cell_type": "code",
   "execution_count": 16,
   "metadata": {},
   "outputs": [],
   "source": [
    "landuse_clean=l2"
   ]
  },
  {
   "cell_type": "code",
   "execution_count": 17,
   "metadata": {
    "scrolled": true
   },
   "outputs": [
    {
     "data": {
      "text/plain": [
       "((95166, 8), (29841, 8))"
      ]
     },
     "execution_count": 17,
     "metadata": {},
     "output_type": "execute_result"
    }
   ],
   "source": [
    "landuse.shape, landuse_clean.shape"
   ]
  },
  {
   "cell_type": "code",
   "execution_count": 18,
   "metadata": {},
   "outputs": [],
   "source": [
    "green=landuse_clean[landuse_clean['fclass'].eq('grass') | \n",
    "        landuse_clean['fclass'].eq('park') | \n",
    "        landuse_clean['fclass'].eq('forest') | \n",
    "        landuse_clean['fclass'].eq('scrub') |\n",
    "        landuse_clean['fclass'].eq('vineyard') | \n",
    "        landuse_clean['fclass'].eq('meadow') |\n",
    "        landuse_clean['fclass'].eq('orchard') |\n",
    "        landuse_clean['fclass'].eq('heath') |\n",
    "        landuse_clean['fclass'].eq('recreation_ground') |\n",
    "        landuse_clean['fclass'].eq('allotments') | \n",
    "        landuse_clean['fclass'].eq('nature_reserve')]"
   ]
  },
  {
   "cell_type": "code",
   "execution_count": 19,
   "metadata": {},
   "outputs": [
    {
     "data": {
      "text/plain": [
       "(17017, 8)"
      ]
     },
     "execution_count": 19,
     "metadata": {},
     "output_type": "execute_result"
    }
   ],
   "source": [
    "green.shape"
   ]
  },
  {
   "cell_type": "code",
   "execution_count": 20,
   "metadata": {
    "scrolled": true
   },
   "outputs": [
    {
     "data": {
      "text/html": [
       "<div>\n",
       "<style scoped>\n",
       "    .dataframe tbody tr th:only-of-type {\n",
       "        vertical-align: middle;\n",
       "    }\n",
       "\n",
       "    .dataframe tbody tr th {\n",
       "        vertical-align: top;\n",
       "    }\n",
       "\n",
       "    .dataframe thead th {\n",
       "        text-align: right;\n",
       "    }\n",
       "</style>\n",
       "<table border=\"1\" class=\"dataframe\">\n",
       "  <thead>\n",
       "    <tr style=\"text-align: right;\">\n",
       "      <th></th>\n",
       "      <th>osm_id</th>\n",
       "      <th>code</th>\n",
       "      <th>fclass</th>\n",
       "      <th>name</th>\n",
       "      <th>geometry</th>\n",
       "      <th>centroid</th>\n",
       "      <th>lon</th>\n",
       "      <th>lat</th>\n",
       "    </tr>\n",
       "  </thead>\n",
       "  <tbody>\n",
       "    <tr>\n",
       "      <th>0</th>\n",
       "      <td>4263495</td>\n",
       "      <td>7202</td>\n",
       "      <td>park</td>\n",
       "      <td>Richard Alatorre Park</td>\n",
       "      <td>POLYGON ((-118.18487 34.14372, -118.18482 34.1...</td>\n",
       "      <td>POINT (-118.18442 34.14370)</td>\n",
       "      <td>-118.184418</td>\n",
       "      <td>34.143700</td>\n",
       "    </tr>\n",
       "    <tr>\n",
       "      <th>1</th>\n",
       "      <td>4354434</td>\n",
       "      <td>7202</td>\n",
       "      <td>park</td>\n",
       "      <td>San Pascual Park</td>\n",
       "      <td>POLYGON ((-118.17015 34.11971, -118.16885 34.1...</td>\n",
       "      <td>POINT (-118.16865 34.11942)</td>\n",
       "      <td>-118.168649</td>\n",
       "      <td>34.119417</td>\n",
       "    </tr>\n",
       "    <tr>\n",
       "      <th>2</th>\n",
       "      <td>4384742</td>\n",
       "      <td>7202</td>\n",
       "      <td>park</td>\n",
       "      <td>Elysian Park</td>\n",
       "      <td>POLYGON ((-118.25161 34.08026, -118.25022 34.0...</td>\n",
       "      <td>POINT (-118.23881 34.08247)</td>\n",
       "      <td>-118.238808</td>\n",
       "      <td>34.082470</td>\n",
       "    </tr>\n",
       "    <tr>\n",
       "      <th>3</th>\n",
       "      <td>4584647</td>\n",
       "      <td>7202</td>\n",
       "      <td>park</td>\n",
       "      <td>Crystal Street Bike Park</td>\n",
       "      <td>POLYGON ((-118.25603 34.10741, -118.25574 34.1...</td>\n",
       "      <td>POINT (-118.25575 34.10746)</td>\n",
       "      <td>-118.255750</td>\n",
       "      <td>34.107462</td>\n",
       "    </tr>\n",
       "    <tr>\n",
       "      <th>27</th>\n",
       "      <td>15478927</td>\n",
       "      <td>7202</td>\n",
       "      <td>park</td>\n",
       "      <td>Glen Alla Park</td>\n",
       "      <td>POLYGON ((-118.43257 33.98428, -118.43127 33.9...</td>\n",
       "      <td>POINT (-118.43155 33.98405)</td>\n",
       "      <td>-118.431547</td>\n",
       "      <td>33.984049</td>\n",
       "    </tr>\n",
       "  </tbody>\n",
       "</table>\n",
       "</div>"
      ],
      "text/plain": [
       "      osm_id  code fclass                      name  \\\n",
       "0    4263495  7202   park     Richard Alatorre Park   \n",
       "1    4354434  7202   park          San Pascual Park   \n",
       "2    4384742  7202   park              Elysian Park   \n",
       "3    4584647  7202   park  Crystal Street Bike Park   \n",
       "27  15478927  7202   park            Glen Alla Park   \n",
       "\n",
       "                                             geometry  \\\n",
       "0   POLYGON ((-118.18487 34.14372, -118.18482 34.1...   \n",
       "1   POLYGON ((-118.17015 34.11971, -118.16885 34.1...   \n",
       "2   POLYGON ((-118.25161 34.08026, -118.25022 34.0...   \n",
       "3   POLYGON ((-118.25603 34.10741, -118.25574 34.1...   \n",
       "27  POLYGON ((-118.43257 33.98428, -118.43127 33.9...   \n",
       "\n",
       "                       centroid         lon        lat  \n",
       "0   POINT (-118.18442 34.14370) -118.184418  34.143700  \n",
       "1   POINT (-118.16865 34.11942) -118.168649  34.119417  \n",
       "2   POINT (-118.23881 34.08247) -118.238808  34.082470  \n",
       "3   POINT (-118.25575 34.10746) -118.255750  34.107462  \n",
       "27  POINT (-118.43155 33.98405) -118.431547  33.984049  "
      ]
     },
     "execution_count": 20,
     "metadata": {},
     "output_type": "execute_result"
    }
   ],
   "source": [
    "green.head()"
   ]
  },
  {
   "cell_type": "code",
   "execution_count": 21,
   "metadata": {},
   "outputs": [],
   "source": [
    "# drop centroid\n",
    "green_clean = green.drop(['centroid'], axis=1)"
   ]
  },
  {
   "cell_type": "code",
   "execution_count": 22,
   "metadata": {},
   "outputs": [
    {
     "data": {
      "text/html": [
       "<div>\n",
       "<style scoped>\n",
       "    .dataframe tbody tr th:only-of-type {\n",
       "        vertical-align: middle;\n",
       "    }\n",
       "\n",
       "    .dataframe tbody tr th {\n",
       "        vertical-align: top;\n",
       "    }\n",
       "\n",
       "    .dataframe thead th {\n",
       "        text-align: right;\n",
       "    }\n",
       "</style>\n",
       "<table border=\"1\" class=\"dataframe\">\n",
       "  <thead>\n",
       "    <tr style=\"text-align: right;\">\n",
       "      <th></th>\n",
       "      <th>osm_id</th>\n",
       "      <th>code</th>\n",
       "      <th>fclass</th>\n",
       "      <th>name</th>\n",
       "      <th>geometry</th>\n",
       "      <th>lon</th>\n",
       "      <th>lat</th>\n",
       "    </tr>\n",
       "  </thead>\n",
       "  <tbody>\n",
       "    <tr>\n",
       "      <th>0</th>\n",
       "      <td>4263495</td>\n",
       "      <td>7202</td>\n",
       "      <td>park</td>\n",
       "      <td>Richard Alatorre Park</td>\n",
       "      <td>POLYGON ((-118.18487 34.14372, -118.18482 34.1...</td>\n",
       "      <td>-118.184418</td>\n",
       "      <td>34.143700</td>\n",
       "    </tr>\n",
       "    <tr>\n",
       "      <th>1</th>\n",
       "      <td>4354434</td>\n",
       "      <td>7202</td>\n",
       "      <td>park</td>\n",
       "      <td>San Pascual Park</td>\n",
       "      <td>POLYGON ((-118.17015 34.11971, -118.16885 34.1...</td>\n",
       "      <td>-118.168649</td>\n",
       "      <td>34.119417</td>\n",
       "    </tr>\n",
       "    <tr>\n",
       "      <th>2</th>\n",
       "      <td>4384742</td>\n",
       "      <td>7202</td>\n",
       "      <td>park</td>\n",
       "      <td>Elysian Park</td>\n",
       "      <td>POLYGON ((-118.25161 34.08026, -118.25022 34.0...</td>\n",
       "      <td>-118.238808</td>\n",
       "      <td>34.082470</td>\n",
       "    </tr>\n",
       "    <tr>\n",
       "      <th>3</th>\n",
       "      <td>4584647</td>\n",
       "      <td>7202</td>\n",
       "      <td>park</td>\n",
       "      <td>Crystal Street Bike Park</td>\n",
       "      <td>POLYGON ((-118.25603 34.10741, -118.25574 34.1...</td>\n",
       "      <td>-118.255750</td>\n",
       "      <td>34.107462</td>\n",
       "    </tr>\n",
       "    <tr>\n",
       "      <th>27</th>\n",
       "      <td>15478927</td>\n",
       "      <td>7202</td>\n",
       "      <td>park</td>\n",
       "      <td>Glen Alla Park</td>\n",
       "      <td>POLYGON ((-118.43257 33.98428, -118.43127 33.9...</td>\n",
       "      <td>-118.431547</td>\n",
       "      <td>33.984049</td>\n",
       "    </tr>\n",
       "  </tbody>\n",
       "</table>\n",
       "</div>"
      ],
      "text/plain": [
       "      osm_id  code fclass                      name  \\\n",
       "0    4263495  7202   park     Richard Alatorre Park   \n",
       "1    4354434  7202   park          San Pascual Park   \n",
       "2    4384742  7202   park              Elysian Park   \n",
       "3    4584647  7202   park  Crystal Street Bike Park   \n",
       "27  15478927  7202   park            Glen Alla Park   \n",
       "\n",
       "                                             geometry         lon        lat  \n",
       "0   POLYGON ((-118.18487 34.14372, -118.18482 34.1... -118.184418  34.143700  \n",
       "1   POLYGON ((-118.17015 34.11971, -118.16885 34.1... -118.168649  34.119417  \n",
       "2   POLYGON ((-118.25161 34.08026, -118.25022 34.0... -118.238808  34.082470  \n",
       "3   POLYGON ((-118.25603 34.10741, -118.25574 34.1... -118.255750  34.107462  \n",
       "27  POLYGON ((-118.43257 33.98428, -118.43127 33.9... -118.431547  33.984049  "
      ]
     },
     "execution_count": 22,
     "metadata": {},
     "output_type": "execute_result"
    }
   ],
   "source": [
    "green_clean.head()"
   ]
  },
  {
   "cell_type": "code",
   "execution_count": 23,
   "metadata": {},
   "outputs": [],
   "source": [
    "#https://osmdata.openstreetmap.de/data/water-polygons.html\n",
    "water=gpd.read_file('../data/water-polygons-split-4326/water-polygons-split-4326/water_polygons.shp')"
   ]
  },
  {
   "cell_type": "code",
   "execution_count": 24,
   "metadata": {},
   "outputs": [
    {
     "data": {
      "text/plain": [
       "(53282, 3)"
      ]
     },
     "execution_count": 24,
     "metadata": {},
     "output_type": "execute_result"
    }
   ],
   "source": [
    "water.shape"
   ]
  },
  {
   "cell_type": "code",
   "execution_count": 25,
   "metadata": {},
   "outputs": [
    {
     "data": {
      "text/html": [
       "<div>\n",
       "<style scoped>\n",
       "    .dataframe tbody tr th:only-of-type {\n",
       "        vertical-align: middle;\n",
       "    }\n",
       "\n",
       "    .dataframe tbody tr th {\n",
       "        vertical-align: top;\n",
       "    }\n",
       "\n",
       "    .dataframe thead th {\n",
       "        text-align: right;\n",
       "    }\n",
       "</style>\n",
       "<table border=\"1\" class=\"dataframe\">\n",
       "  <thead>\n",
       "    <tr style=\"text-align: right;\">\n",
       "      <th></th>\n",
       "      <th>x</th>\n",
       "      <th>y</th>\n",
       "      <th>geometry</th>\n",
       "    </tr>\n",
       "  </thead>\n",
       "  <tbody>\n",
       "    <tr>\n",
       "      <th>0</th>\n",
       "      <td>1</td>\n",
       "      <td>41</td>\n",
       "      <td>POLYGON ((0.99933 40.99950, 0.99933 41.04319, ...</td>\n",
       "    </tr>\n",
       "    <tr>\n",
       "      <th>1</th>\n",
       "      <td>-11</td>\n",
       "      <td>-72</td>\n",
       "      <td>POLYGON ((-11.00158 -71.04396, -11.00158 -71.0...</td>\n",
       "    </tr>\n",
       "    <tr>\n",
       "      <th>2</th>\n",
       "      <td>-11</td>\n",
       "      <td>-72</td>\n",
       "      <td>POLYGON ((-10.81949 -70.99950, -10.75741 -70.9...</td>\n",
       "    </tr>\n",
       "    <tr>\n",
       "      <th>3</th>\n",
       "      <td>148</td>\n",
       "      <td>-11</td>\n",
       "      <td>POLYGON ((147.99949 -11.00050, 147.99949 -10.1...</td>\n",
       "    </tr>\n",
       "    <tr>\n",
       "      <th>4</th>\n",
       "      <td>-25</td>\n",
       "      <td>81</td>\n",
       "      <td>POLYGON ((-25.00338 81.58330, -25.00338 81.720...</td>\n",
       "    </tr>\n",
       "  </tbody>\n",
       "</table>\n",
       "</div>"
      ],
      "text/plain": [
       "     x   y                                           geometry\n",
       "0    1  41  POLYGON ((0.99933 40.99950, 0.99933 41.04319, ...\n",
       "1  -11 -72  POLYGON ((-11.00158 -71.04396, -11.00158 -71.0...\n",
       "2  -11 -72  POLYGON ((-10.81949 -70.99950, -10.75741 -70.9...\n",
       "3  148 -11  POLYGON ((147.99949 -11.00050, 147.99949 -10.1...\n",
       "4  -25  81  POLYGON ((-25.00338 81.58330, -25.00338 81.720..."
      ]
     },
     "execution_count": 25,
     "metadata": {},
     "output_type": "execute_result"
    }
   ],
   "source": [
    "water.head()"
   ]
  },
  {
   "cell_type": "code",
   "execution_count": 26,
   "metadata": {},
   "outputs": [
    {
     "name": "stderr",
     "output_type": "stream",
     "text": [
      "C:\\Users\\acmar\\miniconda3\\envs\\cs\\lib\\site-packages\\ipykernel_launcher.py:1: UserWarning: Geometry is in a geographic CRS. Results from 'centroid' are likely incorrect. Use 'GeoSeries.to_crs()' to re-project geometries to a projected CRS before this operation.\n",
      "\n",
      "  \"\"\"Entry point for launching an IPython kernel.\n",
      "C:\\Users\\acmar\\miniconda3\\envs\\cs\\lib\\site-packages\\ipykernel_launcher.py:2: UserWarning: Geometry is in a geographic CRS. Results from 'centroid' are likely incorrect. Use 'GeoSeries.to_crs()' to re-project geometries to a projected CRS before this operation.\n",
      "\n",
      "  \n"
     ]
    }
   ],
   "source": [
    "water['centroid'] = water['geometry'].centroid\n",
    "water['lon'], water['lat'] = [list(t) for t in zip(*map(getXY, water.centroid))]"
   ]
  },
  {
   "cell_type": "code",
   "execution_count": 27,
   "metadata": {},
   "outputs": [
    {
     "data": {
      "text/html": [
       "<div>\n",
       "<style scoped>\n",
       "    .dataframe tbody tr th:only-of-type {\n",
       "        vertical-align: middle;\n",
       "    }\n",
       "\n",
       "    .dataframe tbody tr th {\n",
       "        vertical-align: top;\n",
       "    }\n",
       "\n",
       "    .dataframe thead th {\n",
       "        text-align: right;\n",
       "    }\n",
       "</style>\n",
       "<table border=\"1\" class=\"dataframe\">\n",
       "  <thead>\n",
       "    <tr style=\"text-align: right;\">\n",
       "      <th></th>\n",
       "      <th>x</th>\n",
       "      <th>y</th>\n",
       "      <th>geometry</th>\n",
       "      <th>centroid</th>\n",
       "      <th>lon</th>\n",
       "      <th>lat</th>\n",
       "    </tr>\n",
       "  </thead>\n",
       "  <tbody>\n",
       "    <tr>\n",
       "      <th>0</th>\n",
       "      <td>1</td>\n",
       "      <td>41</td>\n",
       "      <td>POLYGON ((0.99933 40.99950, 0.99933 41.04319, ...</td>\n",
       "      <td>POINT (1.61701 41.09437)</td>\n",
       "      <td>1.617007</td>\n",
       "      <td>41.094369</td>\n",
       "    </tr>\n",
       "    <tr>\n",
       "      <th>1</th>\n",
       "      <td>-11</td>\n",
       "      <td>-72</td>\n",
       "      <td>POLYGON ((-11.00158 -71.04396, -11.00158 -71.0...</td>\n",
       "      <td>POINT (-10.97495 -71.01612)</td>\n",
       "      <td>-10.974950</td>\n",
       "      <td>-71.016119</td>\n",
       "    </tr>\n",
       "    <tr>\n",
       "      <th>2</th>\n",
       "      <td>-11</td>\n",
       "      <td>-72</td>\n",
       "      <td>POLYGON ((-10.81949 -70.99950, -10.75741 -70.9...</td>\n",
       "      <td>POINT (-10.75569 -71.00237)</td>\n",
       "      <td>-10.755689</td>\n",
       "      <td>-71.002365</td>\n",
       "    </tr>\n",
       "    <tr>\n",
       "      <th>3</th>\n",
       "      <td>148</td>\n",
       "      <td>-11</td>\n",
       "      <td>POLYGON ((147.99949 -11.00050, 147.99949 -10.1...</td>\n",
       "      <td>POINT (148.48457 -10.58733)</td>\n",
       "      <td>148.484570</td>\n",
       "      <td>-10.587332</td>\n",
       "    </tr>\n",
       "    <tr>\n",
       "      <th>4</th>\n",
       "      <td>-25</td>\n",
       "      <td>81</td>\n",
       "      <td>POLYGON ((-25.00338 81.58330, -25.00338 81.720...</td>\n",
       "      <td>POINT (-24.42133 81.79519)</td>\n",
       "      <td>-24.421329</td>\n",
       "      <td>81.795188</td>\n",
       "    </tr>\n",
       "  </tbody>\n",
       "</table>\n",
       "</div>"
      ],
      "text/plain": [
       "     x   y                                           geometry  \\\n",
       "0    1  41  POLYGON ((0.99933 40.99950, 0.99933 41.04319, ...   \n",
       "1  -11 -72  POLYGON ((-11.00158 -71.04396, -11.00158 -71.0...   \n",
       "2  -11 -72  POLYGON ((-10.81949 -70.99950, -10.75741 -70.9...   \n",
       "3  148 -11  POLYGON ((147.99949 -11.00050, 147.99949 -10.1...   \n",
       "4  -25  81  POLYGON ((-25.00338 81.58330, -25.00338 81.720...   \n",
       "\n",
       "                      centroid         lon        lat  \n",
       "0     POINT (1.61701 41.09437)    1.617007  41.094369  \n",
       "1  POINT (-10.97495 -71.01612)  -10.974950 -71.016119  \n",
       "2  POINT (-10.75569 -71.00237)  -10.755689 -71.002365  \n",
       "3  POINT (148.48457 -10.58733)  148.484570 -10.587332  \n",
       "4   POINT (-24.42133 81.79519)  -24.421329  81.795188  "
      ]
     },
     "execution_count": 27,
     "metadata": {},
     "output_type": "execute_result"
    }
   ],
   "source": [
    "water.head()"
   ]
  },
  {
   "cell_type": "code",
   "execution_count": 28,
   "metadata": {},
   "outputs": [],
   "source": [
    "w1 = water[water['lat'].ge(32) & water['lat'].le(df.latitude.max())]"
   ]
  },
  {
   "cell_type": "code",
   "execution_count": 29,
   "metadata": {},
   "outputs": [],
   "source": [
    "w2 = w1[w1['lon'].ge(-120) & w1['lon'].le(df.longitude.max())]"
   ]
  },
  {
   "cell_type": "code",
   "execution_count": 30,
   "metadata": {},
   "outputs": [],
   "source": [
    "water_clean=w2"
   ]
  },
  {
   "cell_type": "code",
   "execution_count": 31,
   "metadata": {
    "scrolled": true
   },
   "outputs": [
    {
     "data": {
      "text/plain": [
       "(7, 6)"
      ]
     },
     "execution_count": 31,
     "metadata": {},
     "output_type": "execute_result"
    }
   ],
   "source": [
    "water_clean.shape"
   ]
  },
  {
   "cell_type": "code",
   "execution_count": 32,
   "metadata": {},
   "outputs": [
    {
     "data": {
      "text/html": [
       "<div>\n",
       "<style scoped>\n",
       "    .dataframe tbody tr th:only-of-type {\n",
       "        vertical-align: middle;\n",
       "    }\n",
       "\n",
       "    .dataframe tbody tr th {\n",
       "        vertical-align: top;\n",
       "    }\n",
       "\n",
       "    .dataframe thead th {\n",
       "        text-align: right;\n",
       "    }\n",
       "</style>\n",
       "<table border=\"1\" class=\"dataframe\">\n",
       "  <thead>\n",
       "    <tr style=\"text-align: right;\">\n",
       "      <th></th>\n",
       "      <th>x</th>\n",
       "      <th>y</th>\n",
       "      <th>geometry</th>\n",
       "      <th>centroid</th>\n",
       "      <th>lon</th>\n",
       "      <th>lat</th>\n",
       "    </tr>\n",
       "  </thead>\n",
       "  <tbody>\n",
       "    <tr>\n",
       "      <th>2273</th>\n",
       "      <td>-119</td>\n",
       "      <td>32</td>\n",
       "      <td>POLYGON ((-119.00059 31.99950, -119.00059 33.0...</td>\n",
       "      <td>POINT (-118.50030 32.49486)</td>\n",
       "      <td>-118.500300</td>\n",
       "      <td>32.494855</td>\n",
       "    </tr>\n",
       "    <tr>\n",
       "      <th>4213</th>\n",
       "      <td>-120</td>\n",
       "      <td>33</td>\n",
       "      <td>POLYGON ((-120.00060 32.99950, -120.00060 33.9...</td>\n",
       "      <td>POINT (-119.49751 33.49693)</td>\n",
       "      <td>-119.497510</td>\n",
       "      <td>33.496934</td>\n",
       "    </tr>\n",
       "    <tr>\n",
       "      <th>5667</th>\n",
       "      <td>-118</td>\n",
       "      <td>33</td>\n",
       "      <td>POLYGON ((-118.00060 32.99950, -118.00060 33.6...</td>\n",
       "      <td>POINT (-117.72560 33.23868)</td>\n",
       "      <td>-117.725604</td>\n",
       "      <td>33.238679</td>\n",
       "    </tr>\n",
       "    <tr>\n",
       "      <th>6235</th>\n",
       "      <td>-119</td>\n",
       "      <td>33</td>\n",
       "      <td>POLYGON ((-119.00060 32.99950, -119.00060 34.0...</td>\n",
       "      <td>POINT (-118.54007 33.45453)</td>\n",
       "      <td>-118.540071</td>\n",
       "      <td>33.454530</td>\n",
       "    </tr>\n",
       "    <tr>\n",
       "      <th>7032</th>\n",
       "      <td>-119</td>\n",
       "      <td>34</td>\n",
       "      <td>POLYGON ((-119.00061 33.99950, -119.00061 34.0...</td>\n",
       "      <td>POINT (-118.76659 34.01927)</td>\n",
       "      <td>-118.766594</td>\n",
       "      <td>34.019275</td>\n",
       "    </tr>\n",
       "  </tbody>\n",
       "</table>\n",
       "</div>"
      ],
      "text/plain": [
       "        x   y                                           geometry  \\\n",
       "2273 -119  32  POLYGON ((-119.00059 31.99950, -119.00059 33.0...   \n",
       "4213 -120  33  POLYGON ((-120.00060 32.99950, -120.00060 33.9...   \n",
       "5667 -118  33  POLYGON ((-118.00060 32.99950, -118.00060 33.6...   \n",
       "6235 -119  33  POLYGON ((-119.00060 32.99950, -119.00060 34.0...   \n",
       "7032 -119  34  POLYGON ((-119.00061 33.99950, -119.00061 34.0...   \n",
       "\n",
       "                         centroid         lon        lat  \n",
       "2273  POINT (-118.50030 32.49486) -118.500300  32.494855  \n",
       "4213  POINT (-119.49751 33.49693) -119.497510  33.496934  \n",
       "5667  POINT (-117.72560 33.23868) -117.725604  33.238679  \n",
       "6235  POINT (-118.54007 33.45453) -118.540071  33.454530  \n",
       "7032  POINT (-118.76659 34.01927) -118.766594  34.019275  "
      ]
     },
     "execution_count": 32,
     "metadata": {},
     "output_type": "execute_result"
    }
   ],
   "source": [
    "water_clean.head()"
   ]
  },
  {
   "cell_type": "code",
   "execution_count": 33,
   "metadata": {},
   "outputs": [],
   "source": [
    "# drop centroid\n",
    "water_clean_2 = water_clean.drop(['centroid'], axis=1)"
   ]
  },
  {
   "cell_type": "code",
   "execution_count": 34,
   "metadata": {},
   "outputs": [
    {
     "data": {
      "text/html": [
       "<div>\n",
       "<style scoped>\n",
       "    .dataframe tbody tr th:only-of-type {\n",
       "        vertical-align: middle;\n",
       "    }\n",
       "\n",
       "    .dataframe tbody tr th {\n",
       "        vertical-align: top;\n",
       "    }\n",
       "\n",
       "    .dataframe thead th {\n",
       "        text-align: right;\n",
       "    }\n",
       "</style>\n",
       "<table border=\"1\" class=\"dataframe\">\n",
       "  <thead>\n",
       "    <tr style=\"text-align: right;\">\n",
       "      <th></th>\n",
       "      <th>x</th>\n",
       "      <th>y</th>\n",
       "      <th>geometry</th>\n",
       "      <th>lon</th>\n",
       "      <th>lat</th>\n",
       "    </tr>\n",
       "  </thead>\n",
       "  <tbody>\n",
       "    <tr>\n",
       "      <th>2273</th>\n",
       "      <td>-119</td>\n",
       "      <td>32</td>\n",
       "      <td>POLYGON ((-119.00059 31.99950, -119.00059 33.0...</td>\n",
       "      <td>-118.500300</td>\n",
       "      <td>32.494855</td>\n",
       "    </tr>\n",
       "    <tr>\n",
       "      <th>4213</th>\n",
       "      <td>-120</td>\n",
       "      <td>33</td>\n",
       "      <td>POLYGON ((-120.00060 32.99950, -120.00060 33.9...</td>\n",
       "      <td>-119.497510</td>\n",
       "      <td>33.496934</td>\n",
       "    </tr>\n",
       "    <tr>\n",
       "      <th>5667</th>\n",
       "      <td>-118</td>\n",
       "      <td>33</td>\n",
       "      <td>POLYGON ((-118.00060 32.99950, -118.00060 33.6...</td>\n",
       "      <td>-117.725604</td>\n",
       "      <td>33.238679</td>\n",
       "    </tr>\n",
       "    <tr>\n",
       "      <th>6235</th>\n",
       "      <td>-119</td>\n",
       "      <td>33</td>\n",
       "      <td>POLYGON ((-119.00060 32.99950, -119.00060 34.0...</td>\n",
       "      <td>-118.540071</td>\n",
       "      <td>33.454530</td>\n",
       "    </tr>\n",
       "    <tr>\n",
       "      <th>7032</th>\n",
       "      <td>-119</td>\n",
       "      <td>34</td>\n",
       "      <td>POLYGON ((-119.00061 33.99950, -119.00061 34.0...</td>\n",
       "      <td>-118.766594</td>\n",
       "      <td>34.019275</td>\n",
       "    </tr>\n",
       "    <tr>\n",
       "      <th>9818</th>\n",
       "      <td>-120</td>\n",
       "      <td>34</td>\n",
       "      <td>POLYGON ((-120.00061 33.99950, -120.00061 34.4...</td>\n",
       "      <td>-119.599482</td>\n",
       "      <td>34.191505</td>\n",
       "    </tr>\n",
       "    <tr>\n",
       "      <th>23632</th>\n",
       "      <td>-120</td>\n",
       "      <td>32</td>\n",
       "      <td>POLYGON ((-120.00059 31.99950, -120.00059 33.0...</td>\n",
       "      <td>-119.500000</td>\n",
       "      <td>32.500000</td>\n",
       "    </tr>\n",
       "  </tbody>\n",
       "</table>\n",
       "</div>"
      ],
      "text/plain": [
       "         x   y                                           geometry         lon  \\\n",
       "2273  -119  32  POLYGON ((-119.00059 31.99950, -119.00059 33.0... -118.500300   \n",
       "4213  -120  33  POLYGON ((-120.00060 32.99950, -120.00060 33.9... -119.497510   \n",
       "5667  -118  33  POLYGON ((-118.00060 32.99950, -118.00060 33.6... -117.725604   \n",
       "6235  -119  33  POLYGON ((-119.00060 32.99950, -119.00060 34.0... -118.540071   \n",
       "7032  -119  34  POLYGON ((-119.00061 33.99950, -119.00061 34.0... -118.766594   \n",
       "9818  -120  34  POLYGON ((-120.00061 33.99950, -120.00061 34.4... -119.599482   \n",
       "23632 -120  32  POLYGON ((-120.00059 31.99950, -120.00059 33.0... -119.500000   \n",
       "\n",
       "             lat  \n",
       "2273   32.494855  \n",
       "4213   33.496934  \n",
       "5667   33.238679  \n",
       "6235   33.454530  \n",
       "7032   34.019275  \n",
       "9818   34.191505  \n",
       "23632  32.500000  "
      ]
     },
     "execution_count": 34,
     "metadata": {},
     "output_type": "execute_result"
    }
   ],
   "source": [
    "water_clean_2"
   ]
  },
  {
   "cell_type": "code",
   "execution_count": 35,
   "metadata": {},
   "outputs": [],
   "source": [
    "#http://download.geofabrik.de/north-america/us/california/socal.html\n",
    "water_cont=gpd.read_file('../data/socal-latest-free/gis_osm_water_a_free_1.shp')"
   ]
  },
  {
   "cell_type": "code",
   "execution_count": 36,
   "metadata": {},
   "outputs": [
    {
     "data": {
      "text/plain": [
       "(15638, 5)"
      ]
     },
     "execution_count": 36,
     "metadata": {},
     "output_type": "execute_result"
    }
   ],
   "source": [
    "water_cont.shape"
   ]
  },
  {
   "cell_type": "code",
   "execution_count": 37,
   "metadata": {},
   "outputs": [
    {
     "name": "stderr",
     "output_type": "stream",
     "text": [
      "C:\\Users\\acmar\\miniconda3\\envs\\cs\\lib\\site-packages\\ipykernel_launcher.py:1: UserWarning: Geometry is in a geographic CRS. Results from 'centroid' are likely incorrect. Use 'GeoSeries.to_crs()' to re-project geometries to a projected CRS before this operation.\n",
      "\n",
      "  \"\"\"Entry point for launching an IPython kernel.\n",
      "C:\\Users\\acmar\\miniconda3\\envs\\cs\\lib\\site-packages\\ipykernel_launcher.py:2: UserWarning: Geometry is in a geographic CRS. Results from 'centroid' are likely incorrect. Use 'GeoSeries.to_crs()' to re-project geometries to a projected CRS before this operation.\n",
      "\n",
      "  \n"
     ]
    }
   ],
   "source": [
    "water_cont['centroid'] = water_cont['geometry'].centroid\n",
    "water_cont['lon'], water_cont['lat'] = [list(t) for t in zip(*map(getXY, water_cont.centroid))]"
   ]
  },
  {
   "cell_type": "code",
   "execution_count": 38,
   "metadata": {},
   "outputs": [],
   "source": [
    "wc1 = water_cont[water_cont['lat'].ge(df.latitude.min()) & water_cont['lat'].le(df.latitude.max())]"
   ]
  },
  {
   "cell_type": "code",
   "execution_count": 39,
   "metadata": {},
   "outputs": [],
   "source": [
    "wc2 = wc1[wc1['lon'].ge(df.longitude.min()) & wc1['lon'].le(df.longitude.max())]"
   ]
  },
  {
   "cell_type": "code",
   "execution_count": 40,
   "metadata": {},
   "outputs": [],
   "source": [
    "water_cont_clean=wc2"
   ]
  },
  {
   "cell_type": "code",
   "execution_count": 41,
   "metadata": {},
   "outputs": [
    {
     "data": {
      "text/plain": [
       "((15638, 8), (2846, 8))"
      ]
     },
     "execution_count": 41,
     "metadata": {},
     "output_type": "execute_result"
    }
   ],
   "source": [
    "water_cont.shape, water_cont_clean.shape"
   ]
  },
  {
   "cell_type": "code",
   "execution_count": 42,
   "metadata": {},
   "outputs": [
    {
     "data": {
      "text/html": [
       "<div>\n",
       "<style scoped>\n",
       "    .dataframe tbody tr th:only-of-type {\n",
       "        vertical-align: middle;\n",
       "    }\n",
       "\n",
       "    .dataframe tbody tr th {\n",
       "        vertical-align: top;\n",
       "    }\n",
       "\n",
       "    .dataframe thead th {\n",
       "        text-align: right;\n",
       "    }\n",
       "</style>\n",
       "<table border=\"1\" class=\"dataframe\">\n",
       "  <thead>\n",
       "    <tr style=\"text-align: right;\">\n",
       "      <th></th>\n",
       "      <th>osm_id</th>\n",
       "      <th>code</th>\n",
       "      <th>fclass</th>\n",
       "      <th>name</th>\n",
       "      <th>geometry</th>\n",
       "      <th>centroid</th>\n",
       "      <th>lon</th>\n",
       "      <th>lat</th>\n",
       "    </tr>\n",
       "  </thead>\n",
       "  <tbody>\n",
       "    <tr>\n",
       "      <th>10</th>\n",
       "      <td>15478215</td>\n",
       "      <td>8200</td>\n",
       "      <td>water</td>\n",
       "      <td>None</td>\n",
       "      <td>POLYGON ((-118.43431 33.96971, -118.43431 33.9...</td>\n",
       "      <td>POINT (-118.43077 33.96937)</td>\n",
       "      <td>-118.430772</td>\n",
       "      <td>33.969369</td>\n",
       "    </tr>\n",
       "    <tr>\n",
       "      <th>13</th>\n",
       "      <td>20693077</td>\n",
       "      <td>8200</td>\n",
       "      <td>water</td>\n",
       "      <td>Upper Franklin Canyon Reservoir</td>\n",
       "      <td>POLYGON ((-118.41093 34.12019, -118.41091 34.1...</td>\n",
       "      <td>POINT (-118.41021 34.12018)</td>\n",
       "      <td>-118.410214</td>\n",
       "      <td>34.120181</td>\n",
       "    </tr>\n",
       "    <tr>\n",
       "      <th>14</th>\n",
       "      <td>22367519</td>\n",
       "      <td>8201</td>\n",
       "      <td>reservoir</td>\n",
       "      <td>Hollywood Reservoir</td>\n",
       "      <td>POLYGON ((-118.33562 34.12360, -118.33562 34.1...</td>\n",
       "      <td>POINT (-118.33177 34.12120)</td>\n",
       "      <td>-118.331768</td>\n",
       "      <td>34.121195</td>\n",
       "    </tr>\n",
       "    <tr>\n",
       "      <th>15</th>\n",
       "      <td>22372384</td>\n",
       "      <td>8200</td>\n",
       "      <td>water</td>\n",
       "      <td>Seaside Lagoon</td>\n",
       "      <td>POLYGON ((-118.39504 33.84423, -118.39503 33.8...</td>\n",
       "      <td>POINT (-118.39445 33.84431)</td>\n",
       "      <td>-118.394447</td>\n",
       "      <td>33.844310</td>\n",
       "    </tr>\n",
       "    <tr>\n",
       "      <th>16</th>\n",
       "      <td>22372524</td>\n",
       "      <td>8200</td>\n",
       "      <td>water</td>\n",
       "      <td>Oxford Retention Basin</td>\n",
       "      <td>POLYGON ((-118.45691 33.98493, -118.45688 33.9...</td>\n",
       "      <td>POINT (-118.45543 33.98527)</td>\n",
       "      <td>-118.455432</td>\n",
       "      <td>33.985272</td>\n",
       "    </tr>\n",
       "  </tbody>\n",
       "</table>\n",
       "</div>"
      ],
      "text/plain": [
       "      osm_id  code     fclass                             name  \\\n",
       "10  15478215  8200      water                             None   \n",
       "13  20693077  8200      water  Upper Franklin Canyon Reservoir   \n",
       "14  22367519  8201  reservoir              Hollywood Reservoir   \n",
       "15  22372384  8200      water                   Seaside Lagoon   \n",
       "16  22372524  8200      water           Oxford Retention Basin   \n",
       "\n",
       "                                             geometry  \\\n",
       "10  POLYGON ((-118.43431 33.96971, -118.43431 33.9...   \n",
       "13  POLYGON ((-118.41093 34.12019, -118.41091 34.1...   \n",
       "14  POLYGON ((-118.33562 34.12360, -118.33562 34.1...   \n",
       "15  POLYGON ((-118.39504 33.84423, -118.39503 33.8...   \n",
       "16  POLYGON ((-118.45691 33.98493, -118.45688 33.9...   \n",
       "\n",
       "                       centroid         lon        lat  \n",
       "10  POINT (-118.43077 33.96937) -118.430772  33.969369  \n",
       "13  POINT (-118.41021 34.12018) -118.410214  34.120181  \n",
       "14  POINT (-118.33177 34.12120) -118.331768  34.121195  \n",
       "15  POINT (-118.39445 33.84431) -118.394447  33.844310  \n",
       "16  POINT (-118.45543 33.98527) -118.455432  33.985272  "
      ]
     },
     "execution_count": 42,
     "metadata": {},
     "output_type": "execute_result"
    }
   ],
   "source": [
    "water_cont_clean.head()"
   ]
  },
  {
   "cell_type": "code",
   "execution_count": 43,
   "metadata": {},
   "outputs": [],
   "source": [
    "water_cont_clean_2=water_cont_clean.drop(['centroid'], axis=1)"
   ]
  },
  {
   "cell_type": "code",
   "execution_count": 44,
   "metadata": {},
   "outputs": [],
   "source": [
    "green_clean_difference=gpd.overlay(green_clean, water_clean_2, how='difference')"
   ]
  },
  {
   "cell_type": "code",
   "execution_count": 45,
   "metadata": {},
   "outputs": [
    {
     "data": {
      "text/plain": [
       "((17017, 7), (17006, 7))"
      ]
     },
     "execution_count": 45,
     "metadata": {},
     "output_type": "execute_result"
    }
   ],
   "source": [
    "green_clean.shape, green_clean_difference.shape"
   ]
  },
  {
   "cell_type": "code",
   "execution_count": 46,
   "metadata": {},
   "outputs": [],
   "source": [
    "green_clean_difference_2=gpd.overlay(green_clean_difference, water_cont_clean_2, how='difference')"
   ]
  },
  {
   "cell_type": "code",
   "execution_count": 47,
   "metadata": {},
   "outputs": [],
   "source": [
    "green=green_clean_difference_2"
   ]
  },
  {
   "cell_type": "code",
   "execution_count": 48,
   "metadata": {},
   "outputs": [],
   "source": [
    "geom = green.geometry.unary_union"
   ]
  },
  {
   "cell_type": "code",
   "execution_count": 49,
   "metadata": {},
   "outputs": [],
   "source": [
    "green_unique = gpd.GeoDataFrame(geometry=[geom],crs='epsg:4326')"
   ]
  },
  {
   "cell_type": "code",
   "execution_count": 50,
   "metadata": {},
   "outputs": [
    {
     "data": {
      "text/html": [
       "<div>\n",
       "<style scoped>\n",
       "    .dataframe tbody tr th:only-of-type {\n",
       "        vertical-align: middle;\n",
       "    }\n",
       "\n",
       "    .dataframe tbody tr th {\n",
       "        vertical-align: top;\n",
       "    }\n",
       "\n",
       "    .dataframe thead th {\n",
       "        text-align: right;\n",
       "    }\n",
       "</style>\n",
       "<table border=\"1\" class=\"dataframe\">\n",
       "  <thead>\n",
       "    <tr style=\"text-align: right;\">\n",
       "      <th></th>\n",
       "      <th>geometry</th>\n",
       "    </tr>\n",
       "  </thead>\n",
       "  <tbody>\n",
       "    <tr>\n",
       "      <th>0</th>\n",
       "      <td>MULTIPOLYGON (((-117.75412 33.52781, -117.7540...</td>\n",
       "    </tr>\n",
       "  </tbody>\n",
       "</table>\n",
       "</div>"
      ],
      "text/plain": [
       "                                            geometry\n",
       "0  MULTIPOLYGON (((-117.75412 33.52781, -117.7540..."
      ]
     },
     "execution_count": 50,
     "metadata": {},
     "output_type": "execute_result"
    }
   ],
   "source": [
    "green_unique.head()"
   ]
  },
  {
   "cell_type": "code",
   "execution_count": 51,
   "metadata": {
    "scrolled": false
   },
   "outputs": [
    {
     "data": {
      "text/plain": [
       "<Geographic 2D CRS: EPSG:4326>\n",
       "Name: WGS 84\n",
       "Axis Info [ellipsoidal]:\n",
       "- Lat[north]: Geodetic latitude (degree)\n",
       "- Lon[east]: Geodetic longitude (degree)\n",
       "Area of Use:\n",
       "- name: World\n",
       "- bounds: (-180.0, -90.0, 180.0, 90.0)\n",
       "Datum: World Geodetic System 1984\n",
       "- Ellipsoid: WGS 84\n",
       "- Prime Meridian: Greenwich"
      ]
     },
     "execution_count": 51,
     "metadata": {},
     "output_type": "execute_result"
    }
   ],
   "source": [
    "green_unique.crs"
   ]
  },
  {
   "cell_type": "code",
   "execution_count": 52,
   "metadata": {},
   "outputs": [],
   "source": [
    "green_unique = green_unique.explode().reset_index(drop=True)"
   ]
  },
  {
   "cell_type": "code",
   "execution_count": 53,
   "metadata": {},
   "outputs": [
    {
     "data": {
      "text/html": [
       "<div>\n",
       "<style scoped>\n",
       "    .dataframe tbody tr th:only-of-type {\n",
       "        vertical-align: middle;\n",
       "    }\n",
       "\n",
       "    .dataframe tbody tr th {\n",
       "        vertical-align: top;\n",
       "    }\n",
       "\n",
       "    .dataframe thead th {\n",
       "        text-align: right;\n",
       "    }\n",
       "</style>\n",
       "<table border=\"1\" class=\"dataframe\">\n",
       "  <thead>\n",
       "    <tr style=\"text-align: right;\">\n",
       "      <th></th>\n",
       "      <th>geometry</th>\n",
       "    </tr>\n",
       "  </thead>\n",
       "  <tbody>\n",
       "    <tr>\n",
       "      <th>0</th>\n",
       "      <td>POLYGON ((-117.75412 33.52781, -117.75409 33.5...</td>\n",
       "    </tr>\n",
       "    <tr>\n",
       "      <th>1</th>\n",
       "      <td>POLYGON ((-117.64313 33.64055, -117.64253 33.6...</td>\n",
       "    </tr>\n",
       "    <tr>\n",
       "      <th>2</th>\n",
       "      <td>POLYGON ((-117.72871 33.64874, -117.72877 33.6...</td>\n",
       "    </tr>\n",
       "    <tr>\n",
       "      <th>3</th>\n",
       "      <td>POLYGON ((-117.73685 33.71229, -117.73677 33.7...</td>\n",
       "    </tr>\n",
       "    <tr>\n",
       "      <th>4</th>\n",
       "      <td>POLYGON ((-117.74009 33.79436, -117.74004 33.7...</td>\n",
       "    </tr>\n",
       "  </tbody>\n",
       "</table>\n",
       "</div>"
      ],
      "text/plain": [
       "                                            geometry\n",
       "0  POLYGON ((-117.75412 33.52781, -117.75409 33.5...\n",
       "1  POLYGON ((-117.64313 33.64055, -117.64253 33.6...\n",
       "2  POLYGON ((-117.72871 33.64874, -117.72877 33.6...\n",
       "3  POLYGON ((-117.73685 33.71229, -117.73677 33.7...\n",
       "4  POLYGON ((-117.74009 33.79436, -117.74004 33.7..."
      ]
     },
     "execution_count": 53,
     "metadata": {},
     "output_type": "execute_result"
    }
   ],
   "source": [
    "green_unique.head()"
   ]
  },
  {
   "cell_type": "code",
   "execution_count": 54,
   "metadata": {},
   "outputs": [
    {
     "data": {
      "text/plain": [
       "<Geographic 2D CRS: EPSG:4326>\n",
       "Name: WGS 84\n",
       "Axis Info [ellipsoidal]:\n",
       "- Lat[north]: Geodetic latitude (degree)\n",
       "- Lon[east]: Geodetic longitude (degree)\n",
       "Area of Use:\n",
       "- name: World\n",
       "- bounds: (-180.0, -90.0, 180.0, 90.0)\n",
       "Datum: World Geodetic System 1984\n",
       "- Ellipsoid: WGS 84\n",
       "- Prime Meridian: Greenwich"
      ]
     },
     "execution_count": 54,
     "metadata": {},
     "output_type": "execute_result"
    }
   ],
   "source": [
    "green_unique.crs"
   ]
  },
  {
   "cell_type": "code",
   "execution_count": 55,
   "metadata": {
    "scrolled": true
   },
   "outputs": [
    {
     "data": {
      "text/plain": [
       "(12947, 1)"
      ]
     },
     "execution_count": 55,
     "metadata": {},
     "output_type": "execute_result"
    }
   ],
   "source": [
    "green_unique.shape"
   ]
  },
  {
   "cell_type": "code",
   "execution_count": 61,
   "metadata": {},
   "outputs": [],
   "source": [
    "#save files\n",
    "green_unique.to_file('../data/outputs/greenspaces_la_final.shp')\n",
    "water_cont_clean_2.to_file('../data/outputs/bluespaces_la_final.shp')\n",
    "water_clean_2.to_file('../data/outputs/ocean_la_final.shp')"
   ]
  }
 ],
 "metadata": {
  "kernelspec": {
   "display_name": "Python 3",
   "language": "python",
   "name": "python3"
  },
  "language_info": {
   "codemirror_mode": {
    "name": "ipython",
    "version": 3
   },
   "file_extension": ".py",
   "mimetype": "text/x-python",
   "name": "python",
   "nbconvert_exporter": "python",
   "pygments_lexer": "ipython3",
   "version": "3.7.8"
  }
 },
 "nbformat": 4,
 "nbformat_minor": 4
}
